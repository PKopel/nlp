{
 "cells": [
  {
   "cell_type": "code",
   "execution_count": null,
   "metadata": {},
   "outputs": [],
   "source": []
  },
  {
   "cell_type": "markdown",
   "metadata": {},
   "source": [
    "1. Read the classification of [Named Entities](https://clarin-pl.eu/dspace/bitstream/handle/11321/294/WytyczneKPWr-jednostkiidentyfikacyjne.pdf).\n",
    "1. Read the [API of NER](https://wiki.clarin-pl.eu/pl/nlpws/services/liner2) in [Clarin](https://ws.clarin-pl.eu/ner.shtml).\n",
    "1. Read the [documentation of CCL format](https://wiki.clarin-pl.eu/pl/nlpws/services/ccl) or [more tourough documentation of CCL format](http://nlp.pwr.wroc.pl/redmine/projects/corpus2/wiki/CCL_format).\n",
    "1. Sort bills according to their size and take top 50 (largest) bills."
   ]
  },
  {
   "cell_type": "markdown",
   "metadata": {},
   "source": [
    "5. Use the lemmatized and sentence split documents (from ex. 5) to identify the expressions that consist of consecutive\n",
    "   words starting with a capital letter (you will have to look at the inflected form of the word to check its\n",
    "   capitalization) that do not occupy the first position in a sentence. E.g. the sentence:\n",
    "   ```\n",
    "   Wczoraj w Krakowie miało miejsce spotkanie prezydentów Polski i Stanów Zjednoczonych.\n",
    "   ```\n",
    "   should yield the following entries: `Kraków`, `Polska`, `Stan Zjednoczony`."
   ]
  },
  {
   "cell_type": "markdown",
   "metadata": {},
   "source": [
    "6. Compute the frequency of each identified expression and print 50 results with the largest number of occurrences."
   ]
  },
  {
   "cell_type": "markdown",
   "metadata": {},
   "source": [
    "7. Apply the NER algorithm to identify the named entities in the same set of documents (not lemmatized) using the `n82` model."
   ]
  },
  {
   "cell_type": "markdown",
   "metadata": {},
   "source": [
    "8. Plot the frequency (histogram) of the coarse-grained classes (e.g. `nam_adj`, `nam_eve`, `nam_fac`)."
   ]
  },
  {
   "cell_type": "markdown",
   "metadata": {},
   "source": [
    "9. Display 10 most frequent Named Entities for each coarse-grained type."
   ]
  },
  {
   "cell_type": "markdown",
   "metadata": {},
   "source": [
    "10. Display 50 most frequent Named Entities including their count and fine-grained type."
   ]
  },
  {
   "cell_type": "markdown",
   "metadata": {},
   "source": [
    "11. Display 5 sentences containing at least 2 recognized named entities with different types. Highlight the recognized spans with color.\n",
    "   (For demo application [Streamlit](https://streamlit.io/) might be useful for displaying NER results)."
   ]
  },
  {
   "cell_type": "markdown",
   "metadata": {},
   "source": [
    "12. Answer the following questions:\n",
    "      1. Which of the method (counting expressions with capital letters vs. NER) worked better for the task concerned with\n",
    "         identification of the proper names?\n",
    "      1. What are the drawbacks of the method based on capital letters?\n",
    "      1. What are the drawbacks of the method based on NER?\n",
    "      1. Which of the coarse-grained NER groups has the best and which has the worst results? Try to justify this\n",
    "         observation.\n",
    "      1. Do you think NER is sufficient for identifying different occurrences of the same entity (i.e. consider \"USA\" and\n",
    "         \"Stany Zjednoczone\" and \"Stany Zjednoczone Ameryki Północnej\")? If not, can you suggest an algorithm or a tool that\n",
    "         would be able to group such names together?\n",
    "      1. Can you think of a real world problem that would benefit the most from application of Named Entity Recognition\n",
    "         algorithm?"
   ]
  }
 ],
 "metadata": {
  "kernelspec": {
   "display_name": "Python 3.10.6 64-bit",
   "language": "python",
   "name": "python3"
  },
  "language_info": {
   "name": "python",
   "version": "3.10.6"
  },
  "orig_nbformat": 4,
  "vscode": {
   "interpreter": {
    "hash": "916dbcbb3f70747c44a77c7bcd40155683ae19c65e1c03b4aa3499c5328201f1"
   }
  }
 },
 "nbformat": 4,
 "nbformat_minor": 2
}
