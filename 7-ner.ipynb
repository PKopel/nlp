{
 "cells": [
  {
   "cell_type": "code",
   "execution_count": 1,
   "metadata": {},
   "outputs": [],
   "source": [
    "import utils\n",
    "import requests\n",
    "\n",
    "text_by_file = utils.load_files('./ustawy/*')\n",
    "\n",
    "for file,text in text_by_file.items():\n",
    "    text_by_file[file] = ' '.join(text.split())"
   ]
  },
  {
   "cell_type": "markdown",
   "metadata": {},
   "source": [
    "1. Read the classification of [Named Entities](https://clarin-pl.eu/dspace/bitstream/handle/11321/294/WytyczneKPWr-jednostkiidentyfikacyjne.pdf).\n",
    "1. Read the [API of NER](https://wiki.clarin-pl.eu/pl/nlpws/services/liner2) in [Clarin](https://ws.clarin-pl.eu/ner.shtml).\n",
    "1. Read the [documentation of CCL format](https://wiki.clarin-pl.eu/pl/nlpws/services/ccl) or [more tourough documentation of CCL format](http://nlp.pwr.wroc.pl/redmine/projects/corpus2/wiki/CCL_format).\n",
    "1. Sort bills according to their size and take top 50 (largest) bills."
   ]
  },
  {
   "cell_type": "code",
   "execution_count": 4,
   "metadata": {},
   "outputs": [
    {
     "data": {
      "text/plain": [
       "dict_keys(['./ustawy/2000_696.txt', './ustawy/2001_627.txt', './ustawy/1996_465.txt', './ustawy/2002_1689.txt', './ustawy/1997_555.txt', './ustawy/1998_1118.txt', './ustawy/2000_1186.txt', './ustawy/2003_2277.txt', './ustawy/2003_1750.txt', './ustawy/2001_1070.txt', './ustawy/2001_499.txt', './ustawy/1997_117.txt', './ustawy/2004_2065.txt', './ustawy/2001_1368.txt', './ustawy/2004_1693.txt', './ustawy/2001_1229.txt', './ustawy/2000_1268.txt', './ustawy/1997_926.txt', './ustawy/1994_195.txt', './ustawy/2001_1545.txt', './ustawy/2004_880.txt', './ustawy/2004_177.txt', './ustawy/2003_423.txt', './ustawy/2000_1104.txt', './ustawy/1997_714.txt', './ustawy/1997_553.txt', './ustawy/1997_349.txt', './ustawy/1994_591.txt', './ustawy/2004_2533.txt', './ustawy/2001_1381.txt', './ustawy/1999_930.txt', './ustawy/2000_1315.txt', './ustawy/2000_136.txt', './ustawy/1999_95.txt', './ustawy/1996_460.txt', './ustawy/2003_2256.txt', './ustawy/1997_557.txt', './ustawy/1996_110.txt', './ustawy/1996_561.txt', './ustawy/2001_628.txt', './ustawy/2001_1438.txt', './ustawy/1998_602.txt', './ustawy/2001_475.txt', './ustawy/2003_1692.txt', './ustawy/2002_1070.txt', './ustawy/2001_1188.txt', './ustawy/2001_906.txt', './ustawy/1997_153.txt', './ustawy/2001_92.txt', './ustawy/2003_2276.txt'])"
      ]
     },
     "execution_count": 4,
     "metadata": {},
     "output_type": "execute_result"
    }
   ],
   "source": [
    "text_sorted = {k: v for k, v in sorted(text_by_file.items(), key=lambda item: len(item[1]), reverse=True)[:50]}\n",
    "text_sorted.keys()"
   ]
  },
  {
   "cell_type": "code",
   "execution_count": 69,
   "metadata": {},
   "outputs": [],
   "source": [
    "import shutil\n",
    "\n",
    "for file in text_sorted.keys():\n",
    "    shutil.copy(file, 'ustawy_top_50')\n"
   ]
  },
  {
   "cell_type": "markdown",
   "metadata": {},
   "source": [
    "5. Use the lemmatized and sentence split documents (from ex. 5) to identify the expressions that consist of consecutive\n",
    "   words starting with a capital letter (you will have to look at the inflected form of the word to check its\n",
    "   capitalization) that do not occupy the first position in a sentence. E.g. the sentence:\n",
    "   ```\n",
    "   Wczoraj w Krakowie miało miejsce spotkanie prezydentów Polski i Stanów Zjednoczonych.\n",
    "   ```\n",
    "   should yield the following entries: `Kraków`, `Polska`, `Stan Zjednoczony`."
   ]
  },
  {
   "cell_type": "code",
   "execution_count": 90,
   "metadata": {},
   "outputs": [],
   "source": [
    "lem_files = ['./ustawy_lem/' + '%'.join(f.split('/')[1:]) for f in text_sorted.keys()]"
   ]
  },
  {
   "cell_type": "code",
   "execution_count": 91,
   "metadata": {},
   "outputs": [],
   "source": [
    "import xml.etree.ElementTree as ET\n",
    "import glob\n",
    "\n",
    "def parse_xml(path: str) -> list[str]:\n",
    "    tree = ET.parse(path)\n",
    "    root = tree.getroot()\n",
    "\n",
    "    sentences = []\n",
    "    \n",
    "    for chunk in root.iter('chunk'):\n",
    "        sentences.append(list(chunk.iter('sentence')))\n",
    "    \n",
    "    return sentences\n",
    "\n",
    "def parse_files(paths: list[str]) -> dict[str, str]:\n",
    "    files = []\n",
    "\n",
    "    for file in paths:\n",
    "        files.append(parse_xml(file))\n",
    "\n",
    "    return files\n",
    "\n",
    "files_xml = parse_files(lem_files)"
   ]
  },
  {
   "cell_type": "code",
   "execution_count": 92,
   "metadata": {},
   "outputs": [],
   "source": [
    "def find_ne_in_sentence(sentence):\n",
    "    nes = []\n",
    "    ne = ''\n",
    "    toks = list(sentence.iter('tok'))\n",
    "    for tok in toks[1:]:\n",
    "        orth = tok.find('orth').text\n",
    "        base = tok.find('lex').find('base').text\n",
    "        if (orth[0].isupper() or (ne != '' and orth == '.')) and orth not in ['Art','Poz']:\n",
    "            ne += base + ' '\n",
    "        elif ne != '':\n",
    "            nes.append(ne)\n",
    "            ne = ''\n",
    "    return nes\n"
   ]
  },
  {
   "cell_type": "code",
   "execution_count": 93,
   "metadata": {},
   "outputs": [
    {
     "data": {
      "text/plain": [
       "['u . ',\n",
       " 'Dzieje_(Apostolskie) . u . ',\n",
       " 'minister ',\n",
       " 'Dzieje_(Apostolskie) . u . nr ',\n",
       " 'minister sprawa wewnętrzny ',\n",
       " 'minister ',\n",
       " 'minister sprawa wewnętrzny ',\n",
       " 'minister ',\n",
       " 'prawa ',\n",
       " 'Dzieje_(Apostolskie) . u . nr ']"
      ]
     },
     "execution_count": 93,
     "metadata": {},
     "output_type": "execute_result"
    }
   ],
   "source": [
    "nes = [ne for chunk in files_xml for sentences in chunk for sentence in sentences for ne in find_ne_in_sentence(sentence)]\n",
    "nes[:10]"
   ]
  },
  {
   "cell_type": "markdown",
   "metadata": {},
   "source": [
    "6. Compute the frequency of each identified expression and print 50 results with the largest number of occurrences."
   ]
  },
  {
   "cell_type": "code",
   "execution_count": 94,
   "metadata": {},
   "outputs": [
    {
     "name": "stdout",
     "output_type": "stream",
     "text": [
      "[('nr ', 4125), ('rzeczpospolita polski ', 587), ('Dzieje_(Apostolskie) . u . nr ', 543), ('kodeks ', 522), ('dziennik . u . ', 391), ('policja ', 384), ('Dzieje_(Apostolskie) . u . ', 378), ('skarb państwo ', 320), ('prawo ', 298), ('unia europejski ', 291), ('kasa chora ', 261), ('straż graniczny ', 258), ('minister ', 255), ('prezes urząd ', 242), ('zmiana ', 205), ('państwowy straż pożarny ', 201), ('zakład ', 196), ('pozostały ', 179), ('rad minister ', 170), ('fundusz ', 165), ('sprawiedliwość ', 163), ('państwowy komisja wyborczy ', 161), ('rad ', 157), ('obrona narodowy ', 156), ('w ', 152), ('urząd patentowy ', 152), ('EFTA ', 151), ('minister sprawiedliwość ', 144), ('europejski porozumienie ', 141), ('Wolny handel ', 140), ('tkanina ', 138), ('minister obrona narodowy ', 136), ('europejski obszar gospodarczy ', 128), ('finanse ', 115), ('SKW ', 115), ('i ', 113), ('urząd ', 110), ('dziennik . u . nr ', 105), ('przepis ', 102), ('komisja ', 101), ('biuro ', 98), ('inspektor nadzór wewnętrzny ', 93), ('damski ', 91), ('SWW ', 88), ('ordynacja ', 86), ('opieka społeczny ', 84), ('urząd ochrona państwo ', 81), ('okręgowy komisja wyborczy ', 81), ('II ', 80), ('Rzeczpospolita Polska ', 80)]\n"
     ]
    }
   ],
   "source": [
    "from collections import Counter\n",
    "\n",
    "nes_freq = Counter(nes)\n",
    "\n",
    "a = sorted(nes_freq.items(), key=lambda item: item[1], reverse=True)[:50]\n",
    "print(a)"
   ]
  },
  {
   "attachments": {},
   "cell_type": "markdown",
   "metadata": {},
   "source": [
    "'rzeczpospolita polski' i 'Rzeczpospolita Polska' - z jakiegoś powodu w zależności od przypadku 'Polski' we frazie jest ona przez Clarin traktowana inaczej: \n",
    "\n",
    "'Rzeczpospolitej Polskiej' -> 'rzeczpospolita polski'\n",
    "\n",
    "'Rzeczpospolita Polska', 'Rzeczpospolitą Polską' -> 'Rzeczpospolita Polska'\n",
    "\n",
    "przykład [`ustawy%2004_963.txt`](./ustawy_lem/ustawy%252004_963.txt)"
   ]
  },
  {
   "cell_type": "markdown",
   "metadata": {},
   "source": [
    "7. Apply the NER algorithm to identify the named entities in the same set of documents (not lemmatized) using the `n82` model."
   ]
  },
  {
   "cell_type": "code",
   "execution_count": null,
   "metadata": {},
   "outputs": [],
   "source": [
    "from lpmn_client import download_file, upload_file\n",
    "from lpmn_client import Task\n",
    "\n",
    "# not working, use web page instead\n",
    "task = Task(lpmn='any2txt|wcrft2|liner2({\"model\":\"n82\"})')\n",
    "task.email = \"pawel.kopel2@gmail.com\"  # change e-mail\n",
    "\n",
    "file_id = upload_file(\"./ustawy_top_50.zip\")\n",
    "output_file_id = task.run(file_id)\n",
    "download_file(output_file_id, \"./ustawy_top_50_nes\")"
   ]
  },
  {
   "cell_type": "code",
   "execution_count": 74,
   "metadata": {},
   "outputs": [],
   "source": [
    "def parse_xml2(path: str) -> list[str]:\n",
    "    tree = ET.parse(path)\n",
    "    root = tree.getroot()\n",
    "\n",
    "    nes = []\n",
    "    ne = []\n",
    "    \n",
    "    for tok in root.iter('tok'):\n",
    "        lex = tok.find('lex')\n",
    "        base = lex.find('base').text\n",
    "        ann = tok.find('ann')\n",
    "        if ann is not None:\n",
    "            if (ann.text == '0' or 'head' in ann.attrib.keys()) and len(ne) > 0:\n",
    "                nes.append(ne)\n",
    "                ne = []\n",
    "            if ann.text != '0':\n",
    "                ne.append((base, ann.attrib['chan']))\n",
    "        elif len(ne) > 0:\n",
    "            nes.append(ne)\n",
    "            ne = []\n",
    "            \n",
    "    \n",
    "    return nes\n",
    "\n",
    "def parse_files2(path: str) -> dict[str, str]:\n",
    "    files = []\n",
    "\n",
    "    for file in glob.glob(path):\n",
    "        files.append(parse_xml2(file))\n",
    "\n",
    "    return files\n",
    "\n",
    "files_xml = parse_files2('./ustawy_top_50_lem/*')"
   ]
  },
  {
   "cell_type": "code",
   "execution_count": 75,
   "metadata": {},
   "outputs": [
    {
     "data": {
      "text/plain": [
       "[[('Dzieje_(Apostolskie)', 'nam_pro_media_periodic'),\n",
       "  ('.', 'nam_pro_media_periodic'),\n",
       "  ('u', 'nam_pro_media_periodic'),\n",
       "  ('.', 'nam_pro_media_periodic')],\n",
       " [('kodeks', 'nam_org_institution'), ('celny', 'nam_org_institution')],\n",
       " [('przepis', 'nam_org_institution'), ('ogólny', 'nam_org_institution')],\n",
       " [('polski', 'nam_adj_country')],\n",
       " [('polski', 'nam_adj_country')],\n",
       " [('polski', 'nam_adj_country')],\n",
       " [('polski', 'nam_adj_country')],\n",
       " [('polski', 'nam_adj_country')],\n",
       " [('polski', 'nam_adj_country')],\n",
       " [('polski', 'nam_adj_country')],\n",
       " [('polski', 'nam_adj_country')],\n",
       " [('rada', 'nam_org_institution'), ('minister', 'nam_org_institution')],\n",
       " [('Dzieje_(Apostolskie)', 'nam_pro_media_periodic'),\n",
       "  ('.', 'nam_pro_media_periodic'),\n",
       "  ('u', 'nam_pro_media_periodic'),\n",
       "  ('.', 'nam_pro_media_periodic')],\n",
       " [('polski', 'nam_adj_country')],\n",
       " [('polski', 'nam_adj_country')],\n",
       " [('polski', 'nam_adj_country')],\n",
       " [('polski', 'nam_adj_country')],\n",
       " [('polski', 'nam_adj_country')],\n",
       " [('prezes', 'nam_org_institution'),\n",
       "  ('główny', 'nam_org_institution'),\n",
       "  ('urząd', 'nam_org_institution'),\n",
       "  ('cło', 'nam_org_institution')],\n",
       " [('światowy', 'nam_org_institution'),\n",
       "  ('organizacja', 'nam_org_institution'),\n",
       "  ('celny', 'nam_org_institution')],\n",
       " [('system', 'nam_org_institution'),\n",
       "  ('oznaczać', 'nam_org_institution'),\n",
       "  ('i', 'nam_org_institution'),\n",
       "  ('kodować', 'nam_org_institution'),\n",
       "  ('towar', 'nam_org_institution')],\n",
       " [('światowy', 'nam_org_institution'),\n",
       "  ('organizacja', 'nam_org_institution'),\n",
       "  ('celny', 'nam_org_institution')],\n",
       " [('nomenklatura', 'nam_org_institution'),\n",
       "  ('scalić', 'nam_org_institution'),\n",
       "  ('unia', 'nam_org_institution'),\n",
       "  ('europejski', 'nam_org_institution')],\n",
       " [('prezes', 'nam_org_institution'),\n",
       "  ('główny', 'nam_org_institution'),\n",
       "  ('urząd', 'nam_org_institution'),\n",
       "  ('cło', 'nam_org_institution')],\n",
       " [('polski', 'nam_adj_country')],\n",
       " [('rzeczpospolita', 'nam_loc_gpe_country'),\n",
       "  ('polski', 'nam_loc_gpe_country')],\n",
       " [('rzeczpospolita', 'nam_loc_gpe_country'),\n",
       "  ('polski', 'nam_loc_gpe_country')],\n",
       " [('rzeczpospolita', 'nam_loc_gpe_country'),\n",
       "  ('polski', 'nam_loc_gpe_country')],\n",
       " [('rzeczpospolita', 'nam_loc_gpe_country'),\n",
       "  ('polski', 'nam_loc_gpe_country')],\n",
       " [('minister', 'nam_org_institution'), ('finanse', 'nam_org_institution')],\n",
       " [('minister', 'nam_org_institution'), ('finanse', 'nam_org_institution')],\n",
       " [('minister', 'nam_org_institution'),\n",
       "  ('obrona', 'nam_org_institution'),\n",
       "  ('narodowy', 'nam_org_institution')],\n",
       " [('minister', 'nam_org_institution'),\n",
       "  ('sprawa', 'nam_org_institution'),\n",
       "  ('wewnętrzny', 'nam_org_institution'),\n",
       "  ('i', 'nam_org_institution'),\n",
       "  ('administracja', 'nam_org_institution')],\n",
       " [('prezes', 'nam_org_institution'),\n",
       "  ('główny', 'nam_org_institution'),\n",
       "  ('urząd', 'nam_org_institution'),\n",
       "  ('cło', 'nam_org_institution')],\n",
       " [('urząd', 'nam_org_institution'),\n",
       "  ('cło', 'nam_org_institution'),\n",
       "  ('bank', 'nam_org_institution')],\n",
       " [('polski', 'nam_adj_country')],\n",
       " [('polski', 'nam_adj_country')],\n",
       " [('prezes', 'nam_org_institution'),\n",
       "  ('główny', 'nam_org_institution'),\n",
       "  ('urząd', 'nam_org_institution'),\n",
       "  ('cło', 'nam_org_institution')],\n",
       " [('Polska', 'nam_loc_gpe_country')],\n",
       " [('Rzeczpospolita', 'nam_loc_gpe_country'),\n",
       "  ('Polska', 'nam_loc_gpe_country')],\n",
       " [('Rzeczpospolita', 'nam_loc_gpe_country'),\n",
       "  ('Polska', 'nam_loc_gpe_country')],\n",
       " [('rada', 'nam_org_institution'), ('minister', 'nam_org_institution')],\n",
       " [('prezes', 'nam_org_institution'),\n",
       "  ('główny', 'nam_org_institution'),\n",
       "  ('urząd', 'nam_org_institution'),\n",
       "  ('cło', 'nam_org_institution')],\n",
       " [('dziennik', 'nam_org_institution'),\n",
       "  ('urzędowy', 'nam_org_institution'),\n",
       "  ('rzeczpospolita', 'nam_org_institution'),\n",
       "  ('polski', 'nam_org_institution'),\n",
       "  ('\"', 'nam_org_institution')],\n",
       " [('Rzeczpospolita', 'nam_loc_gpe_country'),\n",
       "  ('Polska', 'nam_loc_gpe_country')],\n",
       " [('rada', 'nam_org_institution'), ('minister', 'nam_org_institution')],\n",
       " [('rada', 'nam_org_institution'), ('minister', 'nam_org_institution')],\n",
       " [('minister', 'nam_org_institution'), ('gospodarka', 'nam_org_institution')],\n",
       " [('rada', 'nam_org_institution'), ('minister', 'nam_org_institution')],\n",
       " [('rada', 'nam_org_institution'), ('minister', 'nam_org_institution')],\n",
       " [('polski', 'nam_adj_country')],\n",
       " [('polski', 'nam_adj_country')],\n",
       " [('polski', 'nam_adj_country')],\n",
       " [('polski', 'nam_adj_country')],\n",
       " [('polski', 'nam_adj_country')],\n",
       " [('polski', 'nam_adj_country')],\n",
       " [('VII', 'nam_org_institution'),\n",
       "  ('układ', 'nam_org_institution'),\n",
       "  ('ogólny', 'nam_org_institution'),\n",
       "  ('w', 'nam_org_institution'),\n",
       "  ('sprawa', 'nam_org_institution'),\n",
       "  ('taryfa', 'nam_org_institution'),\n",
       "  ('celny', 'nam_org_institution'),\n",
       "  ('i', 'nam_org_institution'),\n",
       "  ('handel', 'nam_org_institution')],\n",
       " [('VII', 'nam_org_institution'),\n",
       "  ('układ', 'nam_org_institution'),\n",
       "  ('ogólny', 'nam_org_institution'),\n",
       "  ('w', 'nam_org_institution'),\n",
       "  ('sprawa', 'nam_org_institution'),\n",
       "  ('taryfa', 'nam_org_institution'),\n",
       "  ('celny', 'nam_org_institution'),\n",
       "  ('i', 'nam_org_institution'),\n",
       "  ('handel', 'nam_org_institution')],\n",
       " [('polski', 'nam_adj_country')],\n",
       " [('rada', 'nam_org_institution'), ('minister', 'nam_org_institution')],\n",
       " [('prezes', 'nam_org_institution'),\n",
       "  ('główny', 'nam_org_institution'),\n",
       "  ('urząd', 'nam_org_institution'),\n",
       "  ('cło', 'nam_org_institution')],\n",
       " [('dziennik', 'nam_org_institution'),\n",
       "  ('urzędowy', 'nam_org_institution'),\n",
       "  ('rzeczpospolita', 'nam_org_institution'),\n",
       "  ('polski', 'nam_org_institution'),\n",
       "  ('\"', 'nam_org_institution')],\n",
       " [('minister', 'nam_org_institution'), ('finanse', 'nam_org_institution')],\n",
       " [('prezes', 'nam_org_institution'),\n",
       "  ('narodowy', 'nam_org_institution'),\n",
       "  ('bank', 'nam_org_institution'),\n",
       "  ('polski', 'nam_org_institution')],\n",
       " [('polski', 'nam_adj_country')],\n",
       " [('polski', 'nam_adj_country')],\n",
       " [('polski', 'nam_adj_country')],\n",
       " [('polski', 'nam_adj_country')],\n",
       " [('prezes', 'nam_org_institution'),\n",
       "  ('główny', 'nam_org_institution'),\n",
       "  ('urząd', 'nam_org_institution'),\n",
       "  ('cło', 'nam_org_institution')],\n",
       " [('minister', 'nam_org_institution'),\n",
       "  ('transport', 'nam_org_institution'),\n",
       "  ('i', 'nam_org_institution'),\n",
       "  ('gospodarka', 'nam_org_institution'),\n",
       "  ('morski', 'nam_org_institution')],\n",
       " [('polski', 'nam_adj_country')],\n",
       " [('polski', 'nam_adj_country')],\n",
       " [('polski', 'nam_adj_country')],\n",
       " [('prezes', 'nam_org_institution'),\n",
       "  ('główny', 'nam_org_institution'),\n",
       "  ('urząd', 'nam_org_institution'),\n",
       "  ('cło', 'nam_org_institution')],\n",
       " [('polski', 'nam_adj_country')],\n",
       " [('prezes', 'nam_org_institution'),\n",
       "  ('główny', 'nam_org_institution'),\n",
       "  ('urząd', 'nam_org_institution'),\n",
       "  ('cło', 'nam_org_institution')],\n",
       " [('prezes', 'nam_org_institution'),\n",
       "  ('główny', 'nam_org_institution'),\n",
       "  ('urząd', 'nam_org_institution'),\n",
       "  ('cło', 'nam_org_institution')],\n",
       " [('polski', 'nam_adj_country')],\n",
       " [('rada', 'nam_org_institution'), ('minister', 'nam_org_institution')],\n",
       " [('polski', 'nam_adj_country')],\n",
       " [('polski', 'nam_adj_country')],\n",
       " [('prezes', 'nam_org_institution'),\n",
       "  ('główny', 'nam_org_institution'),\n",
       "  ('urząd', 'nam_org_institution'),\n",
       "  ('cło', 'nam_org_institution')],\n",
       " [('prezes', 'nam_org_institution'),\n",
       "  ('główny', 'nam_org_institution'),\n",
       "  ('urząd', 'nam_org_institution'),\n",
       "  ('cło', 'nam_org_institution')],\n",
       " [('prezes', 'nam_org_institution'),\n",
       "  ('główny', 'nam_org_institution'),\n",
       "  ('urząd', 'nam_org_institution'),\n",
       "  ('cło', 'nam_org_institution')],\n",
       " [('prezes', 'nam_org_institution'),\n",
       "  ('główny', 'nam_org_institution'),\n",
       "  ('urząd', 'nam_org_institution'),\n",
       "  ('cło', 'nam_org_institution')],\n",
       " [('minister', 'nam_org_institution'), ('finanse', 'nam_org_institution')],\n",
       " [('minister', 'nam_org_institution'), ('gospodarka', 'nam_org_institution')],\n",
       " [('prezes', 'nam_org_institution'),\n",
       "  ('główny', 'nam_org_institution'),\n",
       "  ('urząd', 'nam_org_institution'),\n",
       "  ('cło', 'nam_org_institution')],\n",
       " [('polski', 'nam_adj_country')],\n",
       " [('minister', 'nam_org_institution'), ('finanse', 'nam_org_institution')],\n",
       " [('minister', 'nam_org_institution'), ('gospodarka', 'nam_org_institution')],\n",
       " [('rada', 'nam_org_institution'), ('minister', 'nam_org_institution')],\n",
       " [('polski', 'nam_adj_country')],\n",
       " [('prezes', 'nam_org_institution'),\n",
       "  ('główny', 'nam_org_institution'),\n",
       "  ('urząd', 'nam_org_institution'),\n",
       "  ('cło', 'nam_org_institution')],\n",
       " [('minister', 'nam_org_institution'), ('finanse', 'nam_org_institution')],\n",
       " [('minister', 'nam_org_institution'), ('gospodarka', 'nam_org_institution')],\n",
       " [('minister', 'nam_org_institution'), ('finanse', 'nam_org_institution')],\n",
       " [('minister', 'nam_org_institution'), ('gospodarka', 'nam_org_institution')],\n",
       " [('prezes', 'nam_org_institution'),\n",
       "  ('główny', 'nam_org_institution'),\n",
       "  ('urząd', 'nam_org_institution'),\n",
       "  ('cło', 'nam_org_institution')],\n",
       " [('minister', 'nam_org_institution'), ('finanse', 'nam_org_institution')],\n",
       " [('minister', 'nam_org_institution'), ('gospodarka', 'nam_org_institution')],\n",
       " [('prezes', 'nam_org_institution'),\n",
       "  ('główny', 'nam_org_institution'),\n",
       "  ('urząd', 'nam_org_institution'),\n",
       "  ('cło', 'nam_org_institution')],\n",
       " [('prezes', 'nam_org_institution'),\n",
       "  ('główny', 'nam_org_institution'),\n",
       "  ('urząd', 'nam_org_institution'),\n",
       "  ('cło', 'nam_org_institution')],\n",
       " [('polski', 'nam_adj_country')],\n",
       " [('polski', 'nam_adj_country')],\n",
       " [('polski', 'nam_adj_country')],\n",
       " [('minister', 'nam_org_institution'), ('finanse', 'nam_org_institution')],\n",
       " [('minister', 'nam_org_institution'), ('gospodarka', 'nam_org_institution')],\n",
       " [('polski', 'nam_adj_country')],\n",
       " [('minister', 'nam_org_institution'), ('finanse', 'nam_org_institution')],\n",
       " [('minister', 'nam_org_institution'), ('gospodarka', 'nam_org_institution')],\n",
       " [('minister', 'nam_org_institution'), ('finanse', 'nam_org_institution')],\n",
       " [('minister', 'nam_org_institution'), ('gospodarka', 'nam_org_institution')],\n",
       " [('minister', 'nam_org_institution'), ('finanse', 'nam_org_institution')],\n",
       " [('minister', 'nam_org_institution'), ('gospodarka', 'nam_org_institution')],\n",
       " [('minister', 'nam_org_institution'), ('finanse', 'nam_org_institution')],\n",
       " [('minister', 'nam_org_institution'), ('gospodarka', 'nam_org_institution')],\n",
       " [('polski', 'nam_adj_country')],\n",
       " [('polski', 'nam_adj_country')],\n",
       " [('polski', 'nam_adj_country')],\n",
       " [('polski', 'nam_adj_country')],\n",
       " [('minister', 'nam_org_institution'), ('finanse', 'nam_org_institution')],\n",
       " [('minister', 'nam_org_institution'), ('gospodarka', 'nam_org_institution')],\n",
       " [('minister', 'nam_org_institution'), ('finanse', 'nam_org_institution')],\n",
       " [('minister', 'nam_org_institution'), ('gospodarka', 'nam_org_institution')],\n",
       " [('polski', 'nam_adj_country')],\n",
       " [('prezes', 'nam_org_institution'),\n",
       "  ('główny', 'nam_org_institution'),\n",
       "  ('urząd', 'nam_org_institution'),\n",
       "  ('cło', 'nam_org_institution')],\n",
       " [('rada', 'nam_org_institution'), ('minister', 'nam_org_institution')],\n",
       " [('rada', 'nam_org_institution'), ('minister', 'nam_org_institution')],\n",
       " [('prezes', 'nam_org_institution'),\n",
       "  ('główny', 'nam_org_institution'),\n",
       "  ('urząd', 'nam_org_institution'),\n",
       "  ('cło', 'nam_org_institution'),\n",
       "  ('szczegółowy', 'nam_org_institution')],\n",
       " [('prezes', 'nam_org_institution'),\n",
       "  ('główny', 'nam_org_institution'),\n",
       "  ('urząd', 'nam_org_institution'),\n",
       "  ('cło', 'nam_org_institution')],\n",
       " [('prezes', 'nam_org_institution'),\n",
       "  ('główny', 'nam_org_institution'),\n",
       "  ('urząd', 'nam_org_institution'),\n",
       "  ('cło', 'nam_org_institution')],\n",
       " [('prezes', 'nam_org_institution'),\n",
       "  ('główny', 'nam_org_institution'),\n",
       "  ('urząd', 'nam_org_institution'),\n",
       "  ('cło', 'nam_org_institution')],\n",
       " [('polski', 'nam_adj_country')],\n",
       " [('polski', 'nam_adj_country')],\n",
       " [('polski', 'nam_adj_country')],\n",
       " [('polski', 'nam_adj_country')],\n",
       " [('skarb', 'nam_org_institution'), ('państwo', 'nam_org_institution')],\n",
       " [('skarb', 'nam_org_institution'), ('państwo', 'nam_org_institution')],\n",
       " [('prezes', 'nam_org_institution'),\n",
       "  ('główny', 'nam_org_institution'),\n",
       "  ('urząd', 'nam_org_institution'),\n",
       "  ('cło', 'nam_org_institution')],\n",
       " [('skarb', 'nam_org_institution'), ('państwo', 'nam_org_institution')],\n",
       " [('polski', 'nam_adj_country')],\n",
       " [('prezes', 'nam_org_institution'),\n",
       "  ('główny', 'nam_org_institution'),\n",
       "  ('urząd', 'nam_org_institution'),\n",
       "  ('cło', 'nam_org_institution')],\n",
       " [('rzeczpospolita', 'nam_loc_gpe_country'),\n",
       "  ('polski', 'nam_loc_gpe_country')],\n",
       " [('rzeczpospolita', 'nam_loc_gpe_country'),\n",
       "  ('polski', 'nam_loc_gpe_country')],\n",
       " [('polski', 'nam_adj_country')],\n",
       " [('skarb', 'nam_org_institution'), ('państwo', 'nam_org_institution')],\n",
       " [('skarb', 'nam_org_institution'), ('państwo', 'nam_org_institution')],\n",
       " [('olimpijski', 'nam_adj_other')],\n",
       " [('rzeczpospolita', 'nam_loc_gpe_country'),\n",
       "  ('polski', 'nam_loc_gpe_country')],\n",
       " [('rzeczpospolita', 'nam_loc_gpe_country'),\n",
       "  ('polski', 'nam_loc_gpe_country')],\n",
       " [('rzeczpospolita', 'nam_loc_gpe_country'),\n",
       "  ('polski', 'nam_loc_gpe_country')],\n",
       " [('rzeczpospolita', 'nam_loc_gpe_country'),\n",
       "  ('polski', 'nam_loc_gpe_country')],\n",
       " [('minister', 'nam_org_institution'), ('finanse', 'nam_org_institution')],\n",
       " [('minister', 'nam_org_institution'),\n",
       "  ('sprawa', 'nam_org_institution'),\n",
       "  ('zagraniczny', 'nam_org_institution')],\n",
       " [('minister', 'nam_org_institution'), ('finanse', 'nam_org_institution')],\n",
       " [('minister', 'nam_org_institution'), ('finanse', 'nam_org_institution')],\n",
       " [('prezes', 'nam_org_institution'),\n",
       "  ('urząd', 'nam_org_institution'),\n",
       "  ('kultura', 'nam_org_institution'),\n",
       "  ('fizyczny', 'nam_org_institution'),\n",
       "  ('i', 'nam_org_institution'),\n",
       "  ('turystyka', 'nam_org_institution')],\n",
       " [('minister', 'nam_org_institution'), ('gospodarka', 'nam_org_institution')],\n",
       " [('rada', 'nam_org_institution'), ('minister', 'nam_org_institution')],\n",
       " [('polski', 'nam_adj_country')],\n",
       " [('polski', 'nam_adj_country')],\n",
       " [('polski', 'nam_adj_country')],\n",
       " [('prezes', 'nam_org_institution'),\n",
       "  ('główny', 'nam_org_institution'),\n",
       "  ('urząd', 'nam_org_institution'),\n",
       "  ('cło', 'nam_org_institution')],\n",
       " [('rzeczpospolita', 'nam_loc_gpe_country'),\n",
       "  ('polski', 'nam_loc_gpe_country')],\n",
       " [('rzeczpospolita', 'nam_loc_gpe_country'),\n",
       "  ('polski', 'nam_loc_gpe_country')],\n",
       " [('minister', 'nam_org_institution'), ('finanse', 'nam_org_institution')],\n",
       " [('rada', 'nam_org_institution'), ('minister', 'nam_org_institution')],\n",
       " [('rada', 'nam_org_institution'), ('minister', 'nam_org_institution')],\n",
       " [('polski', 'nam_adj_country')],\n",
       " [('minister', 'nam_org_institution'), ('finanse', 'nam_org_institution')],\n",
       " [('prezes', 'nam_org_institution'),\n",
       "  ('narodowy', 'nam_org_institution'),\n",
       "  ('bank', 'nam_org_institution'),\n",
       "  ('polski', 'nam_org_institution')],\n",
       " [('minister', 'nam_org_institution'), ('finanse', 'nam_org_institution')],\n",
       " [('prezes', 'nam_org_institution'),\n",
       "  ('narodowy', 'nam_org_institution'),\n",
       "  ('bank', 'nam_org_institution'),\n",
       "  ('polski', 'nam_org_institution'),\n",
       "  ('i', 'nam_org_institution'),\n",
       "  ('prezes', 'nam_org_institution'),\n",
       "  ('państwowy', 'nam_org_institution'),\n",
       "  ('urząd', 'nam_org_institution'),\n",
       "  ('nadzór', 'nam_org_institution'),\n",
       "  ('ubezpieczenie', 'nam_org_institution')],\n",
       " [('dziennik', 'nam_org_institution'),\n",
       "  ('urzędowy', 'nam_org_institution'),\n",
       "  ('rzeczpospolita', 'nam_org_institution'),\n",
       "  ('polski', 'nam_org_institution'),\n",
       "  ('\"', 'nam_org_institution')],\n",
       " [('polski', 'nam_adj_country')],\n",
       " [('polski', 'nam_adj_country')],\n",
       " [('polski', 'nam_adj_country')],\n",
       " [('polski', 'nam_adj_country')],\n",
       " [('minister', 'nam_org_institution'), ('finanse', 'nam_org_institution')],\n",
       " [('polski', 'nam_adj_country')],\n",
       " [('minister', 'nam_org_institution'), ('finanse', 'nam_org_institution')],\n",
       " [('prezes', 'nam_org_institution'),\n",
       "  ('główny', 'nam_org_institution'),\n",
       "  ('urząd', 'nam_org_institution'),\n",
       "  ('cło', 'nam_org_institution')],\n",
       " [('prezes', 'nam_org_institution'),\n",
       "  ('główny', 'nam_org_institution'),\n",
       "  ('urząd', 'nam_org_institution'),\n",
       "  ('cło', 'nam_org_institution')],\n",
       " [('minister', 'nam_org_institution'), ('finanse', 'nam_org_institution')],\n",
       " [('minister', 'nam_org_institution'), ('finanse', 'nam_org_institution')],\n",
       " [('skarb', 'nam_org_institution'), ('państwo', 'nam_org_institution')],\n",
       " [('skarb', 'nam_org_institution'), ('państwo', 'nam_org_institution')],\n",
       " [('skarb', 'nam_org_institution'), ('państwo', 'nam_org_institution')],\n",
       " [('polski', 'nam_adj_country')],\n",
       " [('rada', 'nam_org_institution'), ('minister', 'nam_org_institution')],\n",
       " [('prezes', 'nam_org_institution'),\n",
       "  ('główny', 'nam_org_institution'),\n",
       "  ('urząd', 'nam_org_institution'),\n",
       "  ('cło', 'nam_org_institution')],\n",
       " [('sprawa', 'nam_org_institution'), ('celny', 'nam_org_institution')],\n",
       " [('prezes', 'nam_org_institution'),\n",
       "  ('główny', 'nam_org_institution'),\n",
       "  ('urząd', 'nam_org_institution'),\n",
       "  ('cło', 'nam_org_institution')],\n",
       " [('prezes', 'nam_org_institution'),\n",
       "  ('główny', 'nam_org_institution'),\n",
       "  ('urząd', 'nam_org_institution'),\n",
       "  ('cło', 'nam_org_institution')],\n",
       " [('prezes', 'nam_org_institution'),\n",
       "  ('główny', 'nam_org_institution'),\n",
       "  ('urząd', 'nam_org_institution'),\n",
       "  ('cło', 'nam_org_institution')],\n",
       " [('prezes', 'nam_org_institution'),\n",
       "  ('główny', 'nam_org_institution'),\n",
       "  ('urząd', 'nam_org_institution'),\n",
       "  ('cło', 'nam_org_institution')],\n",
       " [('prezes', 'nam_org_institution'),\n",
       "  ('główny', 'nam_org_institution'),\n",
       "  ('urząd', 'nam_org_institution'),\n",
       "  ('cło', 'nam_org_institution')],\n",
       " [('prezes', 'nam_org_institution'),\n",
       "  ('główny', 'nam_org_institution'),\n",
       "  ('urząd', 'nam_org_institution'),\n",
       "  ('cło', 'nam_org_institution')],\n",
       " [('minister', 'nam_org_institution'), ('finanse', 'nam_org_institution')],\n",
       " [('sprawa', 'nam_org_institution'), ('celny', 'nam_org_institution')],\n",
       " [('kodeks', 'nam_pro_title_document'),\n",
       "  ('postępowanie', 'nam_pro_title_document'),\n",
       "  ('administracyjny', 'nam_pro_title_document')],\n",
       " [('minister', 'nam_org_institution'), ('finanse', 'nam_org_institution')],\n",
       " [('polski', 'nam_adj_country')],\n",
       " [('polski', 'nam_adj_country')],\n",
       " [('prezes', 'nam_org_institution'),\n",
       "  ('główny', 'nam_org_institution'),\n",
       "  ('urząd', 'nam_org_institution'),\n",
       "  ('cło', 'nam_org_institution')],\n",
       " [('prezes', 'nam_org_institution'),\n",
       "  ('główny', 'nam_org_institution'),\n",
       "  ('urząd', 'nam_org_institution'),\n",
       "  ('cło', 'nam_org_institution')],\n",
       " [('minister', 'nam_org_institution'), ('finanse', 'nam_org_institution')],\n",
       " [('prezes', 'nam_org_institution'),\n",
       "  ('główny', 'nam_org_institution'),\n",
       "  ('urząd', 'nam_org_institution'),\n",
       "  ('cło', 'nam_org_institution'),\n",
       "  ('nadzorować', 'nam_org_institution')],\n",
       " [('minister', 'nam_org_institution'), ('finanse', 'nam_org_institution')],\n",
       " [('prezes', 'nam_org_institution'),\n",
       "  ('główny', 'nam_org_institution'),\n",
       "  ('urząd', 'nam_org_institution'),\n",
       "  ('cło', 'nam_org_institution')],\n",
       " [('minister', 'nam_org_institution'), ('finanse', 'nam_org_institution')],\n",
       " [('prezes', 'nam_org_institution'),\n",
       "  ('rad', 'nam_org_institution'),\n",
       "  ('minister', 'nam_org_institution')],\n",
       " [('główny', 'nam_org_institution'),\n",
       "  ('urząd', 'nam_org_institution'),\n",
       "  ('cło', 'nam_org_institution')],\n",
       " [('prezes', 'nam_org_institution'),\n",
       "  ('główny', 'nam_org_institution'),\n",
       "  ('urząd', 'nam_org_institution'),\n",
       "  ('cło', 'nam_org_institution')],\n",
       " [('prezes', 'nam_org_institution'),\n",
       "  ('rad', 'nam_org_institution'),\n",
       "  ('minister', 'nam_org_institution')],\n",
       " [('prezes', 'nam_org_institution'),\n",
       "  ('główny', 'nam_org_institution'),\n",
       "  ('urząd', 'nam_org_institution'),\n",
       "  ('cło', 'nam_org_institution')],\n",
       " [('prezes', 'nam_org_institution'),\n",
       "  ('główny', 'nam_org_institution'),\n",
       "  ('urząd', 'nam_org_institution'),\n",
       "  ('cło', 'nam_org_institution')],\n",
       " [('prezes', 'nam_org_institution'),\n",
       "  ('główny', 'nam_org_institution'),\n",
       "  ('urząd', 'nam_org_institution'),\n",
       "  ('cło', 'nam_org_institution')],\n",
       " [('główny', 'nam_org_institution'),\n",
       "  ('urząd', 'nam_org_institution'),\n",
       "  ('cło', 'nam_org_institution')],\n",
       " [('minister', 'nam_org_institution'), ('finanse', 'nam_org_institution')],\n",
       " [('prezes', 'nam_org_institution'),\n",
       "  ('główny', 'nam_org_institution'),\n",
       "  ('urząd', 'nam_org_institution'),\n",
       "  ('cło', 'nam_org_institution'),\n",
       "  ('zadanie', 'nam_org_institution')],\n",
       " [('minister', 'nam_org_institution'), ('finanse', 'nam_org_institution')],\n",
       " [('prezes', 'nam_org_institution'),\n",
       "  ('główny', 'nam_org_institution'),\n",
       "  ('urząd', 'nam_org_institution'),\n",
       "  ('cło', 'nam_org_institution')],\n",
       " [('prezes', 'nam_org_institution'),\n",
       "  ('główny', 'nam_org_institution'),\n",
       "  ('urząd', 'nam_org_institution'),\n",
       "  ('cło', 'nam_org_institution')],\n",
       " [('rada', 'nam_org_institution'), ('minister', 'nam_org_institution')],\n",
       " [('prezes', 'nam_org_institution'),\n",
       "  ('główny', 'nam_org_institution'),\n",
       "  ('urząd', 'nam_org_institution'),\n",
       "  ('cło', 'nam_org_institution')],\n",
       " [('prezes', 'nam_org_institution'),\n",
       "  ('główny', 'nam_org_institution'),\n",
       "  ('urząd', 'nam_org_institution'),\n",
       "  ('cło', 'nam_org_institution')],\n",
       " [('prezes', 'nam_org_institution'),\n",
       "  ('główny', 'nam_org_institution'),\n",
       "  ('urząd', 'nam_org_institution'),\n",
       "  ('cło', 'nam_org_institution')],\n",
       " [('prezes', 'nam_org_institution'),\n",
       "  ('główny', 'nam_org_institution'),\n",
       "  ('urząd', 'nam_org_institution'),\n",
       "  ('cło', 'nam_org_institution')],\n",
       " [('rada', 'nam_org_institution'), ('minister', 'nam_org_institution')],\n",
       " [('Dzieje_(Apostolskie)', 'nam_pro_media_periodic'),\n",
       "  ('.', 'nam_pro_media_periodic'),\n",
       "  ('u', 'nam_pro_media_periodic'),\n",
       "  ('.', 'nam_pro_media_periodic')],\n",
       " [('ustawa', 'nam_pro_title_document'),\n",
       "  ('z', 'nam_pro_title_document'),\n",
       "  ('dzień', 'nam_pro_title_document'),\n",
       "  ('23', 'nam_pro_title_document'),\n",
       "  ('grudzień', 'nam_pro_title_document'),\n",
       "  ('1988', 'nam_pro_title_document'),\n",
       "  ('r', 'nam_pro_title_document'),\n",
       "  ('.', 'nam_pro_title_document'),\n",
       "  ('o', 'nam_pro_title_document'),\n",
       "  ('działalność', 'nam_pro_title_document'),\n",
       "  ('gospodarczy', 'nam_pro_title_document')],\n",
       " [('o', 'nam_pro_title_document'),\n",
       "  ('zmiana', 'nam_pro_title_document'),\n",
       "  ('ustawa', 'nam_pro_title_document'),\n",
       "  ('o', 'nam_pro_title_document'),\n",
       "  ('zobowiązanie', 'nam_pro_title_document'),\n",
       "  ('podatkowy', 'nam_pro_title_document'),\n",
       "  ('oraz', 'nam_pro_title_document'),\n",
       "  ('o', 'nam_pro_title_document'),\n",
       "  ('zmiana', 'nam_pro_title_document'),\n",
       "  ('niektóry', 'nam_pro_title_document'),\n",
       "  ('inny', 'nam_pro_title_document'),\n",
       "  ('ustawa', 'nam_pro_title_document')],\n",
       " [('ustawa', 'nam_pro_title_document'),\n",
       "  ('z', 'nam_pro_title_document'),\n",
       "  ('dzień', 'nam_pro_title_document'),\n",
       "  ('28', 'nam_pro_title_document'),\n",
       "  ('grudzień', 'nam_pro_title_document'),\n",
       "  ('1989', 'nam_pro_title_document')],\n",
       " [('prawo', 'nam_pro_title_document'), ('celny', 'nam_pro_title_document')],\n",
       " [('prezydent', 'nam_org_institution'),\n",
       "  ('rzeczpospolita', 'nam_org_institution'),\n",
       "  ('polski', 'nam_org_institution')],\n",
       " [('polski', 'nam_adj_country')],\n",
       " [('oddział', 'nam_eve_human'),\n",
       "  ('2', 'nam_eve_human'),\n",
       "  ('tranzyt', 'nam_eve_human')],\n",
       " [('V', 'nam_liv_person'), ('depozyt', 'nam_liv_person')]]"
      ]
     },
     "execution_count": 75,
     "metadata": {},
     "output_type": "execute_result"
    }
   ],
   "source": [
    "files_xml[0]"
   ]
  },
  {
   "cell_type": "code",
   "execution_count": 76,
   "metadata": {},
   "outputs": [
    {
     "data": {
      "text/plain": [
       "[[('Dzieje_(Apostolskie)', 'nam_pro_media_periodic'),\n",
       "  ('.', 'nam_pro_media_periodic'),\n",
       "  ('u', 'nam_pro_media_periodic'),\n",
       "  ('.', 'nam_pro_media_periodic')],\n",
       " [('kodeks', 'nam_org_institution'), ('celny', 'nam_org_institution')],\n",
       " [('przepis', 'nam_org_institution'), ('ogólny', 'nam_org_institution')],\n",
       " [('polski', 'nam_adj_country')],\n",
       " [('polski', 'nam_adj_country')],\n",
       " [('polski', 'nam_adj_country')],\n",
       " [('polski', 'nam_adj_country')],\n",
       " [('polski', 'nam_adj_country')],\n",
       " [('polski', 'nam_adj_country')],\n",
       " [('polski', 'nam_adj_country')]]"
      ]
     },
     "execution_count": 76,
     "metadata": {},
     "output_type": "execute_result"
    }
   ],
   "source": [
    "nes_cl = [ne for file_nes in files_xml for ne in file_nes]\n",
    "nes_cl[:10]"
   ]
  },
  {
   "cell_type": "markdown",
   "metadata": {},
   "source": [
    "8. Plot the frequency (histogram) of the coarse-grained classes (e.g. `nam_adj`, `nam_eve`, `nam_fac`)."
   ]
  },
  {
   "cell_type": "code",
   "execution_count": 79,
   "metadata": {},
   "outputs": [
    {
     "name": "stdout",
     "output_type": "stream",
     "text": [
      "270\n",
      "19\n",
      "59\n"
     ]
    },
    {
     "data": {
      "text/plain": [
       "<BarContainer object of 3 artists>"
      ]
     },
     "execution_count": 79,
     "metadata": {},
     "output_type": "execute_result"
    },
    {
     "data": {
      "image/png": "[encoded data removed]",
      "text/plain": [
       "<Figure size 1000x1000 with 1 Axes>"
      ]
     },
     "metadata": {},
     "output_type": "display_data"
    }
   ],
   "source": [
    "import matplotlib.pyplot as plt\n",
    "\n",
    "nam_adjs = list(filter(lambda ne: 'nam_adj' in ne[0][1], nes_cl))\n",
    "nam_eves = list(filter(lambda ne: 'nam_eve' in ne[0][1], nes_cl))\n",
    "nam_facs = list(filter(lambda ne: 'nam_fac' in ne[0][1], nes_cl))\n",
    "\n",
    "print(len(nam_adjs))\n",
    "print(len(nam_eves))\n",
    "print(len(nam_facs))\n",
    "\n",
    "plt.figure(figsize=(10,10))\n",
    "\n",
    "labels = ['nam_adj','nam_eve','nam_fac']\n",
    "values = [len(nam_adjs), len(nam_eves), len(nam_facs)]\n",
    "plt.bar(labels, values)"
   ]
  },
  {
   "cell_type": "markdown",
   "metadata": {},
   "source": [
    "9. Display 10 most frequent Named Entities for each coarse-grained type."
   ]
  },
  {
   "cell_type": "code",
   "execution_count": 84,
   "metadata": {},
   "outputs": [
    {
     "data": {
      "text/plain": [
       "[(('polski ', 'nam_adj_country'), 186),\n",
       " (('wojewódzki ', 'nam_adj_country'), 20),\n",
       " (('europejski ', 'nam_adj_other'), 8),\n",
       " (('unijny ', 'nam_adj_other'), 6),\n",
       " (('internetowy ', 'nam_adj_other'), 3),\n",
       " (('macierzyński ', 'nam_adj_country'), 3),\n",
       " (('krośnieński ', 'nam_adj_country'), 2),\n",
       " (('kolbuszowski ', 'nam_adj_country'), 2),\n",
       " (('warszawski ', 'nam_adj_city'), 2),\n",
       " (('afrykański ', 'nam_adj_country'), 2)]"
      ]
     },
     "execution_count": 84,
     "metadata": {},
     "output_type": "execute_result"
    }
   ],
   "source": [
    "def merge_nes(nes):\n",
    "    nes2 = []\n",
    "    for l in nes:\n",
    "        ne = ''\n",
    "        type = ''\n",
    "        for w,t in l:\n",
    "            type = t\n",
    "            ne += w + ' '\n",
    "        nes2.append((ne,type))\n",
    "    return nes2\n",
    "\n",
    "top_10_adjs = sorted(Counter(merge_nes(nam_adjs)).items(), key=lambda item: item[1], reverse=True)[:10]\n",
    "\n",
    "top_10_adjs"
   ]
  },
  {
   "cell_type": "code",
   "execution_count": 85,
   "metadata": {},
   "outputs": [
    {
     "data": {
      "text/plain": [
       "[(('euro ', 'nam_eve_human_sport'), 4),\n",
       " (('maksymalny limit pozostałość ', 'nam_eve_human'), 2),\n",
       " (('przejściowy plan krajowy ', 'nam_eve_human'), 2),\n",
       " (('oddział 2 tranzyt ', 'nam_eve_human'), 1),\n",
       " (('monitor sądowy ', 'nam_eve_human_sport'), 1),\n",
       " (('wojna poległy ', 'nam_eve_other'), 1),\n",
       " (('X . opieka domowy nad dziecko ', 'nam_eve_human'), 1),\n",
       " (('generalny konserwator zabytek ', 'nam_eve_human'), 1),\n",
       " (('maksymalny limit pozostałość ', 'nam_eve_human_sport'), 1),\n",
       " (('kodeks morski ', 'nam_eve_human'), 1)]"
      ]
     },
     "execution_count": 85,
     "metadata": {},
     "output_type": "execute_result"
    }
   ],
   "source": [
    "sorted(Counter(merge_nes(nam_eves)).items(), key=lambda item: item[1], reverse=True)[:10]"
   ]
  },
  {
   "cell_type": "code",
   "execution_count": 86,
   "metadata": {},
   "outputs": [
    {
     "data": {
      "text/plain": [
       "[(('inspektor nadzór wewnętrzny ', 'nam_fac_goe'), 24),\n",
       " (('komendant główny ', 'nam_fac_goe'), 10),\n",
       " (('krajowy rejestr karny ', 'nam_fac_goe'), 5),\n",
       " (('zatoka gdańska ', 'nam_fac_goe'), 3),\n",
       " (('kościół adwentysta dzień siódmy ', 'nam_fac_goe'), 2),\n",
       " (('straż graniczny ', 'nam_fac_goe'), 2),\n",
       " (('krajowy rad sądownictwo ', 'nam_fac_road'), 2),\n",
       " (('X ', 'nam_fac_goe'), 2),\n",
       " (('dzienia wojska polski ', 'nam_fac_goe'), 1),\n",
       " (('wspólny słownik zamówienie ', 'nam_fac_goe'), 1)]"
      ]
     },
     "execution_count": 86,
     "metadata": {},
     "output_type": "execute_result"
    }
   ],
   "source": [
    "sorted(Counter(merge_nes(nam_facs)).items(), key=lambda item: item[1], reverse=True)[:10]"
   ]
  },
  {
   "cell_type": "markdown",
   "metadata": {},
   "source": [
    "10. Display 50 most frequent Named Entities including their count and fine-grained type."
   ]
  },
  {
   "cell_type": "code",
   "execution_count": 87,
   "metadata": {},
   "outputs": [
    {
     "data": {
      "text/plain": [
       "[(('rzeczpospolita polski ', 'nam_loc_gpe_country'), 550),\n",
       " (('Dzieje_(Apostolskie) . u . ', 'nam_pro_media_periodic'), 412),\n",
       " (('skarb państwo ', 'nam_org_institution'), 368),\n",
       " (('złoty ', 'nam_oth_currency'), 329),\n",
       " (('minister sprawiedliwość ', 'nam_org_institution'), 306),\n",
       " (('minister obrona narodowy ', 'nam_org_institution'), 299),\n",
       " (('rada minister ', 'nam_org_institution'), 260),\n",
       " (('prezes urząd ', 'nam_org_institution'), 246),\n",
       " (('dziennik . u . ', 'nam_pro_media_periodic'), 217),\n",
       " (('unia europejski ', 'nam_org_organization'), 208),\n",
       " (('prezes rad minister ', 'nam_org_institution'), 203),\n",
       " (('minister finanse ', 'nam_org_institution'), 198),\n",
       " (('urząd patentowy ', 'nam_org_institution'), 189),\n",
       " (('polski ', 'nam_adj_country'), 186),\n",
       " (('państwowy komisja wyborczy ', 'nam_org_institution'), 156),\n",
       " (('SKW ', 'nam_org_organization'), 123),\n",
       " (('państwowy straż pożarny ', 'nam_org_organization'), 118),\n",
       " (('państwowy ', 'nam_org_institution'), 105),\n",
       " (('komisja wyborczy ', 'nam_org_institution'), 105),\n",
       " (('urząd ochrona państwo ', 'nam_org_institution'), 101),\n",
       " (('sąd najwyższy ', 'nam_org_institution'), 99),\n",
       " (('euro ', 'nam_oth_currency'), 98),\n",
       " (('EFTA ', 'nam_org_organization'), 92),\n",
       " (('kasa chora ', 'nam_liv_person'), 82),\n",
       " (('prezes urząd regulacja energetyka ', 'nam_org_institution'), 82),\n",
       " (('sejm ', 'nam_org_institution'), 81),\n",
       " (('okręgowy komisja wyborczy ', 'nam_org_institution'), 81),\n",
       " (('minister zdrowie i opieka społeczny ', 'nam_org_institution'), 76),\n",
       " (('ordynacja podatkowy ', 'nam_pro_title_document'), 74),\n",
       " (('komisja europejski ', 'nam_org_institution'), 74),\n",
       " (('Rzeczpospolita Polska ', 'nam_loc_gpe_country'), 73),\n",
       " (('zakład ubezpieczenie społeczny ', 'nam_org_institution'), 67),\n",
       " (('kodeks karny ', 'nam_pro_title_document'), 63),\n",
       " (('dziennik . URz ', 'nam_pro_media_periodic'), 59),\n",
       " (('główny inspektor farmaceutyczny ', 'nam_org_institution'), 53),\n",
       " (('komendant główny straż graniczny ', 'nam_org_institution'), 53),\n",
       " (('Polska ', 'nam_loc_gpe_country'), 51),\n",
       " (('komendant główny policja ', 'nam_org_institution'), 51),\n",
       " (('prezes główny urząd cło ', 'nam_org_institution'), 49),\n",
       " (('senat ', 'nam_org_institution'), 49),\n",
       " (('krajowy biuro wyborczy ', 'nam_org_institution'), 49),\n",
       " (('wspólnota europejski ', 'nam_org_organization'), 49),\n",
       " (('dziennik urzędowy rzeczpospolita polski \" ', 'nam_org_institution'), 48),\n",
       " (('biuro ochrona rząd ', 'nam_org_institution'), 46),\n",
       " (('fundusz ubezpieczenie społeczny ', 'nam_org_institution'), 46),\n",
       " (('inspekcja weterynaryjny ', 'nam_org_institution'), 45),\n",
       " (('w ', 'nam_org_organization'), 45),\n",
       " (('minister praca i polityka socjalna ', 'nam_org_institution'), 44),\n",
       " (('prokurator generalny ', 'nam_org_institution'), 40),\n",
       " (('straż graniczny ', 'nam_org_institution'), 39)]"
      ]
     },
     "execution_count": 87,
     "metadata": {},
     "output_type": "execute_result"
    }
   ],
   "source": [
    "sorted(Counter(merge_nes(nes_cl)).items(), key=lambda item: item[1], reverse=True)[:50]"
   ]
  },
  {
   "cell_type": "markdown",
   "metadata": {},
   "source": [
    "11. Display 5 sentences containing at least 2 recognized named entities with different types. Highlight the recognized spans with color.\n",
    "   (For demo application [Streamlit](https://streamlit.io/) might be useful for displaying NER results)."
   ]
  },
  {
   "cell_type": "code",
   "execution_count": 96,
   "metadata": {},
   "outputs": [],
   "source": [
    "from IPython.display import Markdown, display\n",
    "def printmd(string):\n",
    "    display(Markdown(string))"
   ]
  },
  {
   "cell_type": "code",
   "execution_count": 102,
   "metadata": {},
   "outputs": [],
   "source": [
    "def parse_files3(path: str) -> dict[str, str]:\n",
    "\n",
    "    sentences = []\n",
    "\n",
    "    for file in glob.glob(path):\n",
    "        tree = ET.parse(file)\n",
    "        root = tree.getroot()\n",
    "\n",
    "        sentences = []\n",
    "\n",
    "        for sentence in root.iter('sentence'):\n",
    "            tokens = list(sentence.iter('tok'))\n",
    "            if len(list(tokens[0].iter('ann'))) > 1:\n",
    "                sentences.append(tokens)\n",
    "            \n",
    "            if len(sentences) == 5:\n",
    "                break  \n",
    "        else:\n",
    "            continue  # only executed if the inner loop did NOT break\n",
    "        break\n",
    "\n",
    "    return sentences\n",
    "\n",
    "files_xml = parse_files3('./ustawy_top_50_lem/*')"
   ]
  },
  {
   "cell_type": "code",
   "execution_count": 113,
   "metadata": {},
   "outputs": [
    {
     "data": {
      "text/markdown": [
       "<span style='color:red'>nam_adj_country</span>"
      ],
      "text/plain": [
       "<IPython.core.display.Markdown object>"
      ]
     },
     "metadata": {},
     "output_type": "display_data"
    },
    {
     "data": {
      "text/markdown": [
       "<span style='color:green'>nam_org_institution</span>"
      ],
      "text/plain": [
       "<IPython.core.display.Markdown object>"
      ]
     },
     "metadata": {},
     "output_type": "display_data"
    },
    {
     "data": {
      "text/markdown": [
       "<span style='color:blue'>nam_loc_gpe_country</span>"
      ],
      "text/plain": [
       "<IPython.core.display.Markdown object>"
      ]
     },
     "metadata": {},
     "output_type": "display_data"
    },
    {
     "data": {
      "text/markdown": [
       "Nr 106 , poz . 496 ) , 12 ) plafon taryfowy - określoną ilość lub wartość towarów w przywozie na <span style='color:red'>polski</span> obszar celny lub w ich wywozie poza <span style='color:red'>polski</span> obszar celny , dla których <span style='color:green'>Rada</span> <span style='color:green'>Ministrów</span> ustaliła obniżone stawki celne ; określona ilość lub wartość towarów może być realizowana , a nawet przekroczona przed terminem zamknięcia ( zamknięcie plafonu ) , 13 ) <span style='color:red'>polski</span> obszar celny - terytorium <span style='color:blue'>Rzeczypospolitej</span> <span style='color:blue'>Polskiej</span> , 14 ) przedstawienie towarów organowi celnemu - zawiadomienie organu celnego przez osobę , dokonane w wymaganej formie , o dostarczeniu towarów do urzędu celnego albo miejsca wyznaczonego lub uznanego przez organ celny , 15 ) rewizja celna - ustalenie rodzaju , ilości , stanu towaru oraz w razie potrzeby , ocena wartości celnej towaru , 16 ) status celny - określenie towaru jako towaru krajowego lub niekrajowego , 17 ) środki polityki handlowej - ustanowione w ramach polityki gospodarczej państwa pozataryfowe środki , takie "
      ],
      "text/plain": [
       "<IPython.core.display.Markdown object>"
      ]
     },
     "metadata": {},
     "output_type": "display_data"
    },
    {
     "data": {
      "text/markdown": [
       "<span style='color:red'>nam_adj_country</span>"
      ],
      "text/plain": [
       "<IPython.core.display.Markdown object>"
      ]
     },
     "metadata": {},
     "output_type": "display_data"
    },
    {
     "data": {
      "text/markdown": [
       "<span style='color:green'>nam_org_institution</span>"
      ],
      "text/plain": [
       "<IPython.core.display.Markdown object>"
      ]
     },
     "metadata": {},
     "output_type": "display_data"
    },
    {
     "data": {
      "text/markdown": [
       "Przeznaczenie celne to : 1 ) objęcie towaru procedurą celną , 2 ) wprowadzenie towaru do wolnego obszaru celnego lub do składu wolnocłowego , 3 ) powrotny wywóz towaru poza <span style='color:red'>polski</span> obszar celny , 4 ) zniszczenie towaru , 5 ) zrzeczenie się towaru na rzecz <span style='color:green'>Skarbu</span> <span style='color:green'>Państwa</span> . "
      ],
      "text/plain": [
       "<IPython.core.display.Markdown object>"
      ]
     },
     "metadata": {},
     "output_type": "display_data"
    },
    {
     "data": {
      "text/markdown": [
       "<span style='color:red'>nam_loc_gpe_country</span>"
      ],
      "text/plain": [
       "<IPython.core.display.Markdown object>"
      ]
     },
     "metadata": {},
     "output_type": "display_data"
    },
    {
     "data": {
      "text/markdown": [
       "<span style='color:green'>nam_org_institution</span>"
      ],
      "text/plain": [
       "<IPython.core.display.Markdown object>"
      ]
     },
     "metadata": {},
     "output_type": "display_data"
    },
    {
     "data": {
      "text/markdown": [
       "Rewizji celnej nie podlegają : 1 ) na zasadzie wzajemności : a ) towary przeznaczone dla obcych przedstawicielstw dyplomatycznych , urzędów konsularnych oraz misji specjalnych w <span style='color:red'>Rzeczypospolitej</span> <span style='color:red'>Polskiej</span> , a także organizacji międzynarodowych mających siedziby lub placówki w <span style='color:red'>Rzeczypospolitej</span> <span style='color:red'>Polskiej</span> , b ) towary przeznaczone dla osób korzystających z przywilejów i immunitetów dyplomatycznych , c ) opatrzone pieczęcią przesyłki urzędowe przesyłane do obcych przedstawicielstw dyplomatycznych , urzędów konsularnych i misji specjalnych w <span style='color:red'>Rzeczypospolitej</span> <span style='color:red'>Polskiej</span> oraz opatrzone pieczęcią przesyłki przez nie wysyłane , 2 ) opatrzone pieczęcią przesyłki urzędowe przesyłane między <span style='color:green'>Ministerstwem</span> <span style='color:green'>Spraw</span> <span style='color:green'>Zagranicznych</span> <span style='color:red'>Rzeczypospolitej</span> <span style='color:red'>Polskiej</span> a polskimi przedstawicielstwami dyplomatycznymi , urzędami konsularnymi i misjami specjalnymi za granicą . "
      ],
      "text/plain": [
       "<IPython.core.display.Markdown object>"
      ]
     },
     "metadata": {},
     "output_type": "display_data"
    },
    {
     "data": {
      "text/markdown": [
       "<span style='color:red'>nam_loc_gpe_country</span>"
      ],
      "text/plain": [
       "<IPython.core.display.Markdown object>"
      ]
     },
     "metadata": {},
     "output_type": "display_data"
    },
    {
     "data": {
      "text/markdown": [
       "<span style='color:green'>nam_org_organization</span>"
      ],
      "text/plain": [
       "<IPython.core.display.Markdown object>"
      ]
     },
     "metadata": {},
     "output_type": "display_data"
    },
    {
     "data": {
      "text/markdown": [
       "Taryfa celna obejmuje : 1 ) <span style='color:red'>Polską</span> <span style='color:green'>Scaloną</span> <span style='color:green'>Nomenklaturę</span> <span style='color:green'>Towarową</span> <span style='color:green'>Handlu</span> <span style='color:green'>Zagranicznego</span> <span style='color:green'>PCN</span> ( nomenklatura towarowa ) , 2 ) stawki celne , sposób , warunki i zakres ich stosowania , 3 ) jednostki miar , 4 ) obniżone stawki celne określone w umowach zawartych przez <span style='color:red'>Rzeczpospolitą</span> <span style='color:red'>Polską</span> z niektórymi krajami lub grupami krajów , 5 ) preferencyjne stawki celne przyjęte jednostronnie przez <span style='color:red'>Rzeczpospolitą</span> <span style='color:red'>Polską</span> w odniesieniu do niektórych krajów , grup krajów lub regionów . "
      ],
      "text/plain": [
       "<IPython.core.display.Markdown object>"
      ]
     },
     "metadata": {},
     "output_type": "display_data"
    },
    {
     "data": {
      "text/markdown": [
       "<span style='color:red'>nam_org_institution</span>"
      ],
      "text/plain": [
       "<IPython.core.display.Markdown object>"
      ]
     },
     "metadata": {},
     "output_type": "display_data"
    },
    {
     "data": {
      "text/markdown": [
       "<span style='color:green'>nam_pro_title</span>"
      ],
      "text/plain": [
       "<IPython.core.display.Markdown object>"
      ]
     },
     "metadata": {},
     "output_type": "display_data"
    },
    {
     "data": {
      "text/markdown": [
       "<span style='color:blue'>nam_loc_gpe_country</span>"
      ],
      "text/plain": [
       "<IPython.core.display.Markdown object>"
      ]
     },
     "metadata": {},
     "output_type": "display_data"
    },
    {
     "data": {
      "text/markdown": [
       "<span style='color:red'>Prezes</span> <span style='color:red'>Głównego</span> <span style='color:red'>Urzędu</span> <span style='color:red'>Ceł</span> ogłasza , w formie zarządzenia , w <span style='color:red'>Dzienniku</span> <span style='color:red'>Urzędowym</span> <span style='color:blue'>Rzeczypospolitej</span> <span style='color:blue'>Polskiej</span> <span style='color:red'>\"</span> <span style='color:green'>Monitor</span> <span style='color:green'>Polski</span> \" , wyjaśnienia do taryfy celnej . "
      ],
      "text/plain": [
       "<IPython.core.display.Markdown object>"
      ]
     },
     "metadata": {},
     "output_type": "display_data"
    }
   ],
   "source": [
    "for sentence in files_xml:\n",
    "    types = list(map(lambda ann: ann.attrib['chan'], list(sentence[0].iter('ann'))))\n",
    "    colors = {t:c for t,c in zip(types,['red', 'green', 'blue'])}\n",
    "    for t,c in colors.items():\n",
    "        printmd(f\"<span style='color:{c}'>{t}</span>\")\n",
    "    \n",
    "    output = ''\n",
    "    for tok in sentence:\n",
    "        tok_color = None\n",
    "        tok_orth = tok.find('orth').text \n",
    "        \n",
    "        for ann in tok.iter('ann'):\n",
    "            if ann.text != '0':\n",
    "                tok_color = colors[ann.attrib['chan']]\n",
    "        \n",
    "        output += f'{tok_orth} ' if tok_color is None else f\"<span style='color:{tok_color}'>{tok_orth}</span> \"\n",
    "    printmd(output)\n",
    "    "
   ]
  },
  {
   "cell_type": "markdown",
   "metadata": {},
   "source": [
    "12. Answer the following questions:\n",
    "      1. Which of the method (counting expressions with capital letters vs. NER) worked better for the task concerned with\n",
    "         identification of the proper names?\n",
    "      1. What are the drawbacks of the method based on capital letters?\n",
    "      1. What are the drawbacks of the method based on NER?\n",
    "      1. Which of the coarse-grained NER groups has the best and which has the worst results? Try to justify this\n",
    "         observation.\n",
    "      1. Do you think NER is sufficient for identifying different occurrences of the same entity (i.e. consider \"USA\" and\n",
    "         \"Stany Zjednoczone\" and \"Stany Zjednoczone Ameryki Północnej\")? If not, can you suggest an algorithm or a tool that\n",
    "         would be able to group such names together?\n",
    "      1. Can you think of a real world problem that would benefit the most from application of Named Entity Recognition\n",
    "         algorithm?"
   ]
  }
 ],
 "metadata": {
  "kernelspec": {
   "display_name": "Python 3.10.6 64-bit",
   "language": "python",
   "name": "python3"
  },
  "language_info": {
   "codemirror_mode": {
    "name": "ipython",
    "version": 3
   },
   "file_extension": ".py",
   "mimetype": "text/x-python",
   "name": "python",
   "nbconvert_exporter": "python",
   "pygments_lexer": "ipython3",
   "version": "3.10.6"
  },
  "orig_nbformat": 4,
  "vscode": {
   "interpreter": {
    "hash": "916dbcbb3f70747c44a77c7bcd40155683ae19c65e1c03b4aa3499c5328201f1"
   }
  }
 },
 "nbformat": 4,
 "nbformat_minor": 2
}
