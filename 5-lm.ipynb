{
 "cells": [
  {
   "cell_type": "code",
   "execution_count": 2,
   "metadata": {},
   "outputs": [
    {
     "name": "stderr",
     "output_type": "stream",
     "text": [
      "2022-12-02 15:50:22.018174: I tensorflow/core/platform/cpu_feature_guard.cc:193] This TensorFlow binary is optimized with oneAPI Deep Neural Network Library (oneDNN) to use the following CPU instructions in performance-critical operations:  AVX2 FMA\n",
      "To enable them in other operations, rebuild TensorFlow with the appropriate compiler flags.\n",
      "2022-12-02 15:50:22.404369: W tensorflow/stream_executor/platform/default/dso_loader.cc:64] Could not load dynamic library 'libcudart.so.11.0'; dlerror: libcudart.so.11.0: cannot open shared object file: No such file or directory\n",
      "2022-12-02 15:50:22.404397: I tensorflow/stream_executor/cuda/cudart_stub.cc:29] Ignore above cudart dlerror if you do not have a GPU set up on your machine.\n",
      "2022-12-02 15:50:22.460852: E tensorflow/stream_executor/cuda/cuda_blas.cc:2981] Unable to register cuBLAS factory: Attempting to register factory for plugin cuBLAS when one has already been registered\n",
      "2022-12-02 15:50:23.843017: W tensorflow/stream_executor/platform/default/dso_loader.cc:64] Could not load dynamic library 'libnvinfer.so.7'; dlerror: libnvinfer.so.7: cannot open shared object file: No such file or directory\n",
      "2022-12-02 15:50:23.843148: W tensorflow/stream_executor/platform/default/dso_loader.cc:64] Could not load dynamic library 'libnvinfer_plugin.so.7'; dlerror: libnvinfer_plugin.so.7: cannot open shared object file: No such file or directory\n",
      "2022-12-02 15:50:23.843158: W tensorflow/compiler/tf2tensorrt/utils/py_utils.cc:38] TF-TRT Warning: Cannot dlopen some TensorRT libraries. If you would like to use Nvidia GPU with TensorRT, please make sure the missing libraries mentioned above are installed properly.\n"
     ]
    }
   ],
   "source": [
    "from transformers import pipeline"
   ]
  },
  {
   "cell_type": "markdown",
   "metadata": {},
   "source": [
    "1. Read the documentation of [Language modelling in the Transformers](https://huggingface.co/transformers/task_summary.html#language-modeling) library.\n",
    "1. Download three [Polish models](https://huggingface.co/models?filter=pl) from the Huggingface repository. "
   ]
  },
  {
   "cell_type": "code",
   "execution_count": 3,
   "metadata": {},
   "outputs": [
    {
     "name": "stderr",
     "output_type": "stream",
     "text": [
      "Some weights of the model checkpoint at bert-base-multilingual-cased were not used when initializing BertForMaskedLM: ['cls.seq_relationship.bias', 'cls.seq_relationship.weight']\n",
      "- This IS expected if you are initializing BertForMaskedLM from the checkpoint of a model trained on another task or with another architecture (e.g. initializing a BertForSequenceClassification model from a BertForPreTraining model).\n",
      "- This IS NOT expected if you are initializing BertForMaskedLM from the checkpoint of a model that you expect to be exactly identical (initializing a BertForSequenceClassification model from a BertForSequenceClassification model).\n"
     ]
    }
   ],
   "source": [
    "models = [\n",
    "    ('bert-base-multilingual-cased', '[MASK]'),\n",
    "    ('xlm-roberta-base', '<mask>'),\n",
    "    ('Geotrend/distilbert-base-pl-cased', '[MASK]')\n",
    "]\n",
    "\n",
    "unmaskers = list(\n",
    "    map(lambda model, mask: (model, pipeline('fill-mask', model=model), mask), *zip(*models))\n",
    ")\n"
   ]
  },
  {
   "cell_type": "code",
   "execution_count": 4,
   "metadata": {},
   "outputs": [],
   "source": [
    "MASK = '[[mask]]'\n",
    "\n",
    "def test_sentences(sentences: list[str]):\n",
    "    for sentence in sentences:  \n",
    "        print('#'*20)\n",
    "        for name, unmasker, mask in unmaskers:\n",
    "            sentence_m = sentence.replace(MASK,mask)\n",
    "            print(f'\\033[1m{name}\\033[0m: ', end='')\n",
    "            for result in unmasker(sentence_m):\n",
    "                print(f'{result[\"sequence\"]}', end=' # ')\n",
    "            print()"
   ]
  },
  {
   "cell_type": "markdown",
   "metadata": {},
   "source": [
    "3. Devise a method to test if the langage model understands Polish cases. E.g. testing for *nominal case* could be expressed as \"Warszawa to największe `[MASK]`\", and the masked word should be in nominative case. Create sentences for each case."
   ]
  },
  {
   "cell_type": "code",
   "execution_count": 5,
   "metadata": {},
   "outputs": [],
   "source": [
    "sentences = [\n",
    "    f'{MASK} jest popularnym owocem', # mianownik\n",
    "    f'Nie ma tutaj z nami {MASK}', # dopełniacz\n",
    "    f'Przyglądam się {MASK} od godziny', # celownik\n",
    "    f'Czy widziałeś ostatnio {MASK}', # biernik\n",
    "    f'Obszar gnuśności zalany {MASK}', # narzędnik\n",
    "    f'Rozmawialiśmy z nimi o {MASK}', # miejscownik\n",
    "    f'{MASK}! dodaj mi skrzydła', # wołacz\n",
    "]\n",
    "\n",
    "sentences_adj = [\n",
    "    f'Czerwony {MASK} jest popularnym owocem', # mianownik\n",
    "    f'Nie ma tutaj z nami naszego {MASK}', # dopełniacz\n",
    "    f'Przyglądam się pięknemu {MASK} od godziny', # celownik\n",
    "    f'Czy widziałeś ostatnio niebieski {MASK}', # biernik\n",
    "    f'Poszedłem na spacer z moim {MASK}', # narzędnik\n",
    "    f'Rozmawialiśmy z nimi o pięknych {MASK}', # miejscownik\n",
    "    f'{MASK}! dodaj mi skrzydła! Niech nad martwym wzlecę światem', # wołacz\n",
    "]"
   ]
  },
  {
   "cell_type": "code",
   "execution_count": 6,
   "metadata": {},
   "outputs": [
    {
     "name": "stdout",
     "output_type": "stream",
     "text": [
      "####################\n",
      "\u001b[1mbert-base-multilingual-cased\u001b[0m: jest jest popularnym owocem # nie jest popularnym owocem # - jest popularnym owocem # ta jest popularnym owocem # , jest popularnym owocem # \n",
      "\u001b[1mxlm-roberta-base\u001b[0m: Nie jest popularnym owocem # nie jest popularnym owocem # Dlaczego jest popularnym owocem # To jest popularnym owocem # który jest popularnym owocem # \n",
      "\u001b[1mGeotrend/distilbert-base-pl-cased\u001b[0m: Herb jest popularnym owocem # Jak jest popularnym owocem # Obecnie jest popularnym owocem # Nie jest popularnym owocem # Miasto jest popularnym owocem # \n",
      "####################\n",
      "\u001b[1mbert-base-multilingual-cased\u001b[0m: Nie ma tutaj z nami. # Nie ma tutaj z nami, # Nie ma tutaj z nami ; # Nie ma tutaj z nami : # Nie ma tutaj z nami? # \n",
      "\u001b[1mxlm-roberta-base\u001b[0m: Nie ma tutaj z nami... # Nie ma tutaj z nami. # Nie ma tutaj z nami # Nie ma tutaj z nami! # Nie ma tutaj z nami? # \n",
      "\u001b[1mGeotrend/distilbert-base-pl-cased\u001b[0m: Nie ma tutaj z nami? # Nie ma tutaj z nami! # Nie ma tutaj z nami nie # Nie ma tutaj z nami : # Nie ma tutaj z nami sobie # \n",
      "####################\n",
      "\u001b[1mbert-base-multilingual-cased\u001b[0m: Przyglądam się, od godziny # Przyglądam się : od godziny # Przyglądam się to od godziny # Przyglądam się - od godziny # Przyglądam się od od godziny # \n",
      "\u001b[1mxlm-roberta-base\u001b[0m: Przyglądam się codziennie od godziny # Przyglądam się już od godziny # Przyglądam się Ci od godziny # Przyglądam się ci od godziny # Przyglądam się często od godziny # \n",
      "\u001b[1mGeotrend/distilbert-base-pl-cased\u001b[0m: Przyglądam się tylko od godziny # Przyglądam się dopiero od godziny # Przyglądam się jeszcze od godziny # Przyglądam się nawet od godziny # Przyglądam się wszystkim od godziny # \n",
      "####################\n",
      "\u001b[1mbert-base-multilingual-cased\u001b[0m: Czy widziałeś ostatnio. # Czy widziałeś ostatnio, # Czy widziałeś ostatnio : # Czy widziałeś ostatnio ; # Czy widziałeś ostatnio - # \n",
      "\u001b[1mxlm-roberta-base\u001b[0m: Czy widziałeś ostatnio? # Czy widziałeś ostatnio... # Czy widziałeś ostatnio: # Czy widziałeś ostatnio # Czy widziałeś ostatnio... # \n",
      "\u001b[1mGeotrend/distilbert-base-pl-cased\u001b[0m: Czy widziałeś ostatnio? # Czy widziałeś ostatnio! # Czy widziałeś ostatnio : # Czy widziałeś ostatnio − # Czy widziałeś ostatnio sobie # \n",
      "####################\n",
      "\u001b[1mbert-base-multilingual-cased\u001b[0m: Obszar gnuśności zalany. # Obszar gnuśności zalany : # Obszar gnuśności zalany, # Obszar gnuśności zalany ; # Obszar gnuśności zalany jest # \n",
      "\u001b[1mxlm-roberta-base\u001b[0m: Obszar gnuśności zalany. # Obszar gnuśności zalany # Obszar gnuśności zalany... # Obszar gnuśności zalany? # Obszar gnuśności zalany, # \n",
      "\u001b[1mGeotrend/distilbert-base-pl-cased\u001b[0m: Obszar gnuśności zalanyczy # Obszar gnuśności zalanycza # Obszar gnuśności zalany wody # Obszar gnuśności zalanywych # Obszar gnuśności zalany jest # \n",
      "####################\n",
      "\u001b[1mbert-base-multilingual-cased\u001b[0m: Rozmawialiśmy z nimi o tym # Rozmawialiśmy z nimi o. # Rozmawialiśmy z nimi o innych # Rozmawialiśmy z nimi o nim # Rozmawialiśmy z nimi o wiele # \n",
      "\u001b[1mxlm-roberta-base\u001b[0m: Rozmawialiśmy z nimi o: # Rozmawialiśmy z nimi o... # Rozmawialiśmy z nimi o pracy # Rozmawialiśmy z nimi o... # Rozmawialiśmy z nimi o # \n",
      "\u001b[1mGeotrend/distilbert-base-pl-cased\u001b[0m: Rozmawialiśmy z nimi o sobie # Rozmawialiśmy z nimi o czym # Rozmawialiśmy z nimi o postaci # Rozmawialiśmy z nimi o tym # Rozmawialiśmy z nimi o siebie # \n",
      "####################\n",
      "\u001b[1mbert-base-multilingual-cased\u001b[0m: !! dodaj mi skrzydła # ¡! dodaj mi skrzydła # O! dodaj mi skrzydła # o! dodaj mi skrzydła # Oh! dodaj mi skrzydła # \n",
      "\u001b[1mxlm-roberta-base\u001b[0m: Hej! dodaj mi skrzydła # Ah! dodaj mi skrzydła # hej! dodaj mi skrzydła # Hey! dodaj mi skrzydła # Aha! dodaj mi skrzydła # \n",
      "\u001b[1mGeotrend/distilbert-base-pl-cased\u001b[0m: Oh! dodaj mi skrzydła # Hey! dodaj mi skrzydła # Hello! dodaj mi skrzydła # !! dodaj mi skrzydła # Jak! dodaj mi skrzydła # \n"
     ]
    }
   ],
   "source": [
    "test_sentences(sentences)"
   ]
  },
  {
   "cell_type": "code",
   "execution_count": 16,
   "metadata": {},
   "outputs": [
    {
     "name": "stdout",
     "output_type": "stream",
     "text": [
      "####################\n",
      "\u001b[1mbert-base-multilingual-cased\u001b[0m: Czerwony herb jest popularnym owocem # Czerwony most jest popularnym owocem # Czerwony list jest popularnym owocem # Czerwony pan jest popularnym owocem # Czerwony Herb jest popularnym owocem # \n",
      "\u001b[1mxlm-roberta-base\u001b[0m: Czerwony pieprz jest popularnym owocem # Czerwony róż jest popularnym owocem # Czerwony sok jest popularnym owocem # Czerwony pomidor jest popularnym owocem # Czerwony granat jest popularnym owocem # \n",
      "\u001b[1mGeotrend/distilbert-base-pl-cased\u001b[0m: Czerwony gaz jest popularnym owocem # Czerwony Herb jest popularnym owocem # Czerwony Jerzy jest popularnym owocem # Czerwony piłkarz jest popularnym owocem # Czerwony czas jest popularnym owocem # \n",
      "####################\n",
      "\u001b[1mbert-base-multilingual-cased\u001b[0m: Nie ma tutaj z nami naszego. # Nie ma tutaj z nami naszego, # Nie ma tutaj z nami naszego : # Nie ma tutaj z nami naszego - # Nie ma tutaj z nami naszego ; # \n",
      "\u001b[1mxlm-roberta-base\u001b[0m: Nie ma tutaj z nami naszego domu # Nie ma tutaj z nami naszego serca # Nie ma tutaj z nami naszego Boga # Nie ma tutaj z nami naszego życia # Nie ma tutaj z nami naszego pokoju # \n",
      "\u001b[1mGeotrend/distilbert-base-pl-cased\u001b[0m: Nie ma tutaj z nami naszego dnia # Nie ma tutaj z nami naszego miejsca # Nie ma tutaj z nami naszego brata # Nie ma tutaj z nami naszego pochodzenia # Nie ma tutaj z nami naszego! # \n",
      "####################\n",
      "\u001b[1mbert-base-multilingual-cased\u001b[0m: Przyglądam się pięknemu, od godziny # Przyglądam się pięknemu - od godziny # Przyglądam się pięknemu : od godziny # Przyglądam się pięknemu od od godziny # Przyglądam się pięknemu... od godziny # \n",
      "\u001b[1mxlm-roberta-base\u001b[0m: Przyglądam się pięknemu domu od godziny # Przyglądam się pięknemu polu od godziny # Przyglądam się pięknemu słońca od godziny # Przyglądam się pięknemu parku od godziny # Przyglądam się pięknemu dniu od godziny # \n",
      "\u001b[1mGeotrend/distilbert-base-pl-cased\u001b[0m: Przyglądam się pięknemu czasu od godziny # Przyglądam się pięknemu dnia od godziny # Przyglądam się pięknemu dopiero od godziny # Przyglądam się pięknemu prawie od godziny # Przyglądam się pięknemu tylko od godziny # \n",
      "####################\n",
      "\u001b[1mbert-base-multilingual-cased\u001b[0m: Czy widziałeś ostatnio niebieski. # Czy widziałeś ostatnio niebieski, # Czy widziałeś ostatnio niebieski : # Czy widziałeś ostatnio niebieski - # Czy widziałeś ostatnio niebieski ; # \n",
      "\u001b[1mxlm-roberta-base\u001b[0m: Czy widziałeś ostatnio niebieski? # Czy widziałeś ostatnio niebieski... # Czy widziałeś ostatnio niebieski? # Czy widziałeś ostatnio niebieski??? # Czy widziałeś ostatnio niebieski?? # \n",
      "\u001b[1mGeotrend/distilbert-base-pl-cased\u001b[0m: Czy widziałeś ostatnio niebieski? # Czy widziałeś ostatnio niebieski! # Czy widziałeś ostatnio niebieski : # Czy widziałeś ostatnio niebieski ; # Czy widziałeś ostatnio niebieski − # \n",
      "####################\n",
      "\u001b[1mbert-base-multilingual-cased\u001b[0m: Poszedłem na spacer z moim. # Poszedłem na spacer z moim, # Poszedłem na spacer z moim - # Poszedłem na spacer z moim : # Poszedłem na spacer z moim ; # \n",
      "\u001b[1mxlm-roberta-base\u001b[0m: Poszedłem na spacer z moim dzieckiem # Poszedłem na spacer z moim... # Poszedłem na spacer z moim... # Poszedłem na spacer z moim # Poszedłem na spacer z moim autem # \n",
      "\u001b[1mGeotrend/distilbert-base-pl-cased\u001b[0m: Poszedłem na spacer z moim synem # Poszedłem na spacer z moim stanie # Poszedłem na spacer z moim czasu # Poszedłem na spacer z moim? # Poszedłem na spacer z moim! # \n",
      "####################\n",
      "\u001b[1mbert-base-multilingual-cased\u001b[0m: Rozmawialiśmy z nimi o pięknych. # Rozmawialiśmy z nimi o pięknych : # Rozmawialiśmy z nimi o pięknych, # Rozmawialiśmy z nimi o pięknych... # Rozmawialiśmy z nimi o pięknych - # \n",
      "\u001b[1mxlm-roberta-base\u001b[0m: Rozmawialiśmy z nimi o pięknych miejscach # Rozmawialiśmy z nimi o pięknych... # Rozmawialiśmy z nimi o pięknych # Rozmawialiśmy z nimi o pięknych... # Rozmawialiśmy z nimi o pięknych. # \n",
      "\u001b[1mGeotrend/distilbert-base-pl-cased\u001b[0m: Rozmawialiśmy z nimi o pięknych : # Rozmawialiśmy z nimi o pięknych dzieci # Rozmawialiśmy z nimi o pięknych postaci # Rozmawialiśmy z nimi o pięknych! # Rozmawialiśmy z nimi o pięknych? # \n",
      "####################\n",
      "\u001b[1mbert-base-multilingual-cased\u001b[0m: !! dodaj mi skrzydła! Niech nad martwym wzlecę światem # Pan! dodaj mi skrzydła! Niech nad martwym wzlecę światem # O! dodaj mi skrzydła! Niech nad martwym wzlecę światem # Oh! dodaj mi skrzydła! Niech nad martwym wzlecę światem # Tak! dodaj mi skrzydła! Niech nad martwym wzlecę światem # \n",
      "\u001b[1mxlm-roberta-base\u001b[0m: O! dodaj mi skrzydła! Niech nad martwym wzlecę światem # Boże! dodaj mi skrzydła! Niech nad martwym wzlecę światem # Ach! dodaj mi skrzydła! Niech nad martwym wzlecę światem # Oh! dodaj mi skrzydła! Niech nad martwym wzlecę światem # Jezus! dodaj mi skrzydła! Niech nad martwym wzlecę światem # \n",
      "\u001b[1mGeotrend/distilbert-base-pl-cased\u001b[0m: Nie! dodaj mi skrzydła! Niech nad martwym wzlecę światem # Oh! dodaj mi skrzydła! Niech nad martwym wzlecę światem # punk! dodaj mi skrzydła! Niech nad martwym wzlecę światem # Jak! dodaj mi skrzydła! Niech nad martwym wzlecę światem # Gdy! dodaj mi skrzydła! Niech nad martwym wzlecę światem # \n"
     ]
    }
   ],
   "source": [
    "test_sentences(sentences_adj)"
   ]
  },
  {
   "cell_type": "markdown",
   "metadata": {},
   "source": [
    "4. Devise a method to test long-range relationships such as gender. E.e. you can use two verbs where withe masculine and feminine gender, where one of the verbs is masked. Both verbs should have the same gender, assuming the subject is the same. Define at least 3 such sentences."
   ]
  },
  {
   "cell_type": "code",
   "execution_count": 14,
   "metadata": {},
   "outputs": [],
   "source": [
    "sentences = [\n",
    "    f'Poszedłem do pracy i {MASK} tam cały dzień',\n",
    "    f'Zobaczyła go z daleka i {MASK} za nim',\n",
    "    f'{MASK} tam i zobacz co się dzieje'\n",
    "]\n",
    "\n",
    "sentences_dot = [\n",
    "    f'Poszedłem do pracy i cały dzień ciężko {MASK}.',\n",
    "    f'Zobaczyła go z daleka i szybko {MASK} za nim.',\n",
    "    f'{MASK} tam jutro i zobacz co się dzieje.'\n",
    "]"
   ]
  },
  {
   "cell_type": "code",
   "execution_count": 9,
   "metadata": {},
   "outputs": [
    {
     "name": "stdout",
     "output_type": "stream",
     "text": [
      "####################\n",
      "\u001b[1mbert-base-multilingual-cased\u001b[0m: Poszedłem do pracy i to tam cały dzień # Poszedłem do pracy i jest tam cały dzień # Poszedłem do pracy i tam tam cały dzień # Poszedłem do pracy i gra tam cały dzień # Poszedłem do pracy i ma tam cały dzień # \n",
      "\u001b[1mxlm-roberta-base\u001b[0m: Poszedłem do pracy i był tam cały dzień # Poszedłem do pracy i miałem tam cały dzień # Poszedłem do pracy i jestem tam cały dzień # Poszedłem do pracy i będę tam cały dzień # Poszedłem do pracy i pracował tam cały dzień # \n",
      "\u001b[1mGeotrend/distilbert-base-pl-cased\u001b[0m: Poszedłem do pracy i było tam cały dzień # Poszedłem do pracy i pracy tam cały dzień # Poszedłem do pracy i pracował tam cały dzień # Poszedłem do pracy i przez tam cały dzień # Poszedłem do pracy i jeszcze tam cały dzień # \n",
      "####################\n",
      "\u001b[1mbert-base-multilingual-cased\u001b[0m: Zobaczyła go z daleka i była za nim # Zobaczyła go z daleka i to za nim # Zobaczyła go z daleka i miała za nim # Zobaczyła go z daleka i tylko za nim # Zobaczyła go z daleka i ta za nim # \n",
      "\u001b[1mxlm-roberta-base\u001b[0m: Zobaczyła go z daleka i była za nim # Zobaczyła go z daleka i zaraz za nim # Zobaczyła go z daleka i jeszcze za nim # Zobaczyła go z daleka i dokładnie za nim # Zobaczyła go z daleka i stał za nim # \n",
      "\u001b[1mGeotrend/distilbert-base-pl-cased\u001b[0m: Zobaczyła go z daleka i jest za nim # Zobaczyła go z daleka i brak za nim # Zobaczyła go z daleka i tylko za nim # Zobaczyła go z daleka i jeszcze za nim # Zobaczyła go z daleka i dana za nim # \n",
      "####################\n",
      "\u001b[1mbert-base-multilingual-cased\u001b[0m: i tam i zobacz co się dzieje # I tam i zobacz co się dzieje # to tam i zobacz co się dzieje # , tam i zobacz co się dzieje # jest tam i zobacz co się dzieje # \n",
      "\u001b[1mxlm-roberta-base\u001b[0m: Klik tam i zobacz co się dzieje # Stop tam i zobacz co się dzieje # Zobacz tam i zobacz co się dzieje # Zi tam i zobacz co się dzieje # Go tam i zobacz co się dzieje # \n",
      "\u001b[1mGeotrend/distilbert-base-pl-cased\u001b[0m: Jak tam i zobacz co się dzieje # Jest tam i zobacz co się dzieje # punk tam i zobacz co się dzieje # Nie tam i zobacz co się dzieje # jest tam i zobacz co się dzieje # \n"
     ]
    }
   ],
   "source": [
    "test_sentences(sentences)"
   ]
  },
  {
   "cell_type": "code",
   "execution_count": 15,
   "metadata": {},
   "outputs": [
    {
     "name": "stdout",
     "output_type": "stream",
     "text": [
      "####################\n",
      "\u001b[1mbert-base-multilingual-cased\u001b[0m: Poszedłem do pracy i cały dzień ciężko to. # Poszedłem do pracy i cały dzień ciężko życia. # Poszedłem do pracy i cały dzień ciężko pracy. # Poszedłem do pracy i cały dzień ciężkoem. # Poszedłem do pracy i cały dzień ciężko jest. # \n",
      "\u001b[1mxlm-roberta-base\u001b[0m: Poszedłem do pracy i cały dzień ciężko było. # Poszedłem do pracy i cały dzień ciężko pracował. # Poszedłem do pracy i cały dzień ciężko pracować. # Poszedłem do pracy i cały dzień ciężko pracuje. # Poszedłem do pracy i cały dzień ciężko miałem. # \n",
      "\u001b[1mGeotrend/distilbert-base-pl-cased\u001b[0m: Poszedłem do pracy i cały dzień ciężkowych. # Poszedłem do pracy i cały dzień ciężkowienia. # Poszedłem do pracy i cały dzień ciężkoła. # Poszedłem do pracy i cały dzień ciężkoł. # Poszedłem do pracy i cały dzień ciężkowym. # \n",
      "####################\n",
      "\u001b[1mbert-base-multilingual-cased\u001b[0m: Zobaczyła go z daleka i szybko była za nim. # Zobaczyła go z daleka i szybko się za nim. # Zobaczyła go z daleka i szybko została za nim. # Zobaczyła go z daleka i szybkoła za nim. # Zobaczyła go z daleka i szybko miała za nim. # \n",
      "\u001b[1mxlm-roberta-base\u001b[0m: Zobaczyła go z daleka i szybko idzie za nim. # Zobaczyła go z daleka i szybko była za nim. # Zobaczyła go z daleka i szybko została za nim. # Zobaczyła go z daleka i szybkoszła za nim. # Zobaczyła go z daleka i szybko zaczęła za nim. # \n",
      "\u001b[1mGeotrend/distilbert-base-pl-cased\u001b[0m: Zobaczyła go z daleka i szybko gry za nim. # Zobaczyła go z daleka i szybko tylko za nim. # Zobaczyła go z daleka i szybko jest za nim. # Zobaczyła go z daleka i szybko pracował za nim. # Zobaczyła go z daleka i szybko miejsca za nim. # \n",
      "####################\n",
      "\u001b[1mbert-base-multilingual-cased\u001b[0m: Ja tam jutro i zobacz co się dzieje. # Jest tam jutro i zobacz co się dzieje. # Tam tam jutro i zobacz co się dzieje. # Ma tam jutro i zobacz co się dzieje. # To tam jutro i zobacz co się dzieje. # \n",
      "\u001b[1mxlm-roberta-base\u001b[0m: Jest tam jutro i zobacz co się dzieje. # Będzie tam jutro i zobacz co się dzieje. # Zobacz tam jutro i zobacz co się dzieje. # Kom tam jutro i zobacz co się dzieje. # Raz tam jutro i zobacz co się dzieje. # \n",
      "\u001b[1mGeotrend/distilbert-base-pl-cased\u001b[0m: Jest tam jutro i zobacz co się dzieje. # Został tam jutro i zobacz co się dzieje. # Jak tam jutro i zobacz co się dzieje. # jest tam jutro i zobacz co się dzieje. # Był tam jutro i zobacz co się dzieje. # \n"
     ]
    }
   ],
   "source": [
    "test_sentences(sentences_dot)"
   ]
  },
  {
   "cell_type": "markdown",
   "metadata": {},
   "source": [
    "5. Check if the model captures real-world knolwedge. For instance a sentence \"`[MASK]` wrze w temperaturze 100 stopni, a zamarza w temperaturze 0 stopni Celsjusza.\" checks if the model \"knows\" the description of water. Define at least 3 such sentences."
   ]
  },
  {
   "cell_type": "code",
   "execution_count": 11,
   "metadata": {},
   "outputs": [],
   "source": [
    "sentences = [\n",
    "    f'Ziemia to {MASK} planeta od Słońca',\n",
    "    f'Najwyższą górą na Ziemi jest {MASK}',\n",
    "    f'Kod genetyczny komórki przechowywany jest w jej {MASK}'\n",
    "]\n",
    "\n",
    "sentences_long = [\n",
    "    f'Ziemia, nazywana niebieską planetą, to {MASK} planeta od Słońca',\n",
    "    f'Najwyższą górą na Ziemi jest {MASK} o wysokości 8848 m n.p.m.',\n",
    "    f'Kod genetyczny komórki przechowywany jest w jej {MASK} w postaci łańcuchów DNA'\n",
    "]"
   ]
  },
  {
   "cell_type": "code",
   "execution_count": 12,
   "metadata": {},
   "outputs": [
    {
     "name": "stdout",
     "output_type": "stream",
     "text": [
      "####################\n",
      "\u001b[1mbert-base-multilingual-cased\u001b[0m: Ziemia to druga planeta od Słońca # Ziemia to to planeta od Słońca # Ziemia to ta planeta od Słońca # Ziemia to jedna planeta od Słońca # Ziemia to od planeta od Słońca # \n",
      "\u001b[1mxlm-roberta-base\u001b[0m: Ziemia to druga planeta od Słońca # Ziemia to większa planeta od Słońca # Ziemia to jedna planeta od Słońca # Ziemia to mniej planeta od Słońca # Ziemia to bliżej planeta od Słońca # \n",
      "\u001b[1mGeotrend/distilbert-base-pl-cased\u001b[0m: Ziemia to druga planeta od Słońca # Ziemia to pierwsza planeta od Słońca # Ziemia to jedna planeta od Słońca # Ziemia to tylko planeta od Słońca # Ziemia to nazwa planeta od Słońca # \n",
      "####################\n",
      "\u001b[1mbert-base-multilingual-cased\u001b[0m: Najwyższą górą na Ziemi jest : # Najwyższą górą na Ziemi jest. # Najwyższą górą na Ziemi jest to # Najwyższą górą na Ziemi jest góry # Najwyższą górą na Ziemi jest - # \n",
      "\u001b[1mxlm-roberta-base\u001b[0m: Najwyższą górą na Ziemi jest: # Najwyższą górą na Ziemi jest... # Najwyższą górą na Ziemi jest... # Najwyższą górą na Ziemi jest # Najwyższą górą na Ziemi jest. # \n",
      "\u001b[1mGeotrend/distilbert-base-pl-cased\u001b[0m: Najwyższą górą na Ziemi jest : # Najwyższą górą na Ziemi jest ; # Najwyższą górą na Ziemi jest Ziemi # Najwyższą górą na Ziemi jest? # Najwyższą górą na Ziemi jest Gora # \n",
      "####################\n",
      "\u001b[1mbert-base-multilingual-cased\u001b[0m: Kod genetyczny komórki przechowywany jest w jej obrębie # Kod genetyczny komórki przechowywany jest w jej czasie # Kod genetyczny komórki przechowywany jest w jej trakcie # Kod genetyczny komórki przechowywany jest w jej języku # Kod genetyczny komórki przechowywany jest w jej rodzinie # \n",
      "\u001b[1mxlm-roberta-base\u001b[0m: Kod genetyczny komórki przechowywany jest w jej pamięci # Kod genetyczny komórki przechowywany jest w jej # Kod genetyczny komórki przechowywany jest w jej... # Kod genetyczny komórki przechowywany jest w jej... # Kod genetyczny komórki przechowywany jest w jej DNA # \n",
      "\u001b[1mGeotrend/distilbert-base-pl-cased\u001b[0m: Kod genetyczny komórki przechowywany jest w jej składzie # Kod genetyczny komórki przechowywany jest w jej skład # Kod genetyczny komórki przechowywany jest w jej postaci # Kod genetyczny komórki przechowywany jest w jej wyniku # Kod genetyczny komórki przechowywany jest w jej trakcie # \n"
     ]
    }
   ],
   "source": [
    "test_sentences(sentences)"
   ]
  },
  {
   "cell_type": "code",
   "execution_count": 13,
   "metadata": {},
   "outputs": [
    {
     "name": "stdout",
     "output_type": "stream",
     "text": [
      "####################\n",
      "\u001b[1mbert-base-multilingual-cased\u001b[0m: Ziemia, nazywana niebieską planetą, to jest planeta od Słońca # Ziemia, nazywana niebieską planetą, to to planeta od Słońca # Ziemia, nazywana niebieską planetą, to druga planeta od Słońca # Ziemia, nazywana niebieską planetą, to więc planeta od Słońca # Ziemia, nazywana niebieską planetą, to : planeta od Słońca # \n",
      "\u001b[1mxlm-roberta-base\u001b[0m: Ziemia, nazywana niebieską planetą, to druga planeta od Słońca # Ziemia, nazywana niebieską planetą, to większa planeta od Słońca # Ziemia, nazywana niebieską planetą, to pierwsza planeta od Słońca # Ziemia, nazywana niebieską planetą, to główna planeta od Słońca # Ziemia, nazywana niebieską planetą, to jedna planeta od Słońca # \n",
      "\u001b[1mGeotrend/distilbert-base-pl-cased\u001b[0m: Ziemia, nazywana niebieską planetą, to druga planeta od Słońca # Ziemia, nazywana niebieską planetą, to pierwsza planeta od Słońca # Ziemia, nazywana niebieską planetą, to jedna planeta od Słońca # Ziemia, nazywana niebieską planetą, to tylko planeta od Słońca # Ziemia, nazywana niebieską planetą, to jest planeta od Słońca # \n",
      "####################\n",
      "\u001b[1mbert-base-multilingual-cased\u001b[0m: Najwyższą górą na Ziemi jest Ziemi o wysokości 8848 m n. p. m. # Najwyższą górą na Ziemi jest Mons o wysokości 8848 m n. p. m. # Najwyższą górą na Ziemi jest Alp o wysokości 8848 m n. p. m. # Najwyższą górą na Ziemi jest Mars o wysokości 8848 m n. p. m. # Najwyższą górą na Ziemi jest Maud o wysokości 8848 m n. p. m. # \n",
      "\u001b[1mxlm-roberta-base\u001b[0m: Najwyższą górą na Ziemi jest Everest o wysokości 8848 m n.p.m. # Najwyższą górą na Ziemi jest Malta o wysokości 8848 m n.p.m. # Najwyższą górą na Ziemi jest szczyt o wysokości 8848 m n.p.m. # Najwyższą górą na Ziemi jest Kilimanjaro o wysokości 8848 m n.p.m. # Najwyższą górą na Ziemi jest wysokość o wysokości 8848 m n.p.m. # \n",
      "\u001b[1mGeotrend/distilbert-base-pl-cased\u001b[0m: Najwyższą górą na Ziemi jest Gora o wysokości 8848 m n. p. m. # Najwyższą górą na Ziemi jest punkt o wysokości 8848 m n. p. m. # Najwyższą górą na Ziemi jest basen o wysokości 8848 m n. p. m. # Najwyższą górą na Ziemi jest top o wysokości 8848 m n. p. m. # Najwyższą górą na Ziemi jest panorama o wysokości 8848 m n. p. m. # \n",
      "####################\n",
      "\u001b[1mbert-base-multilingual-cased\u001b[0m: Kod genetyczny komórki przechowywany jest w jej obrębie w postaci łańcuchów DNA # Kod genetyczny komórki przechowywany jest w jej trakcie w postaci łańcuchów DNA # Kod genetyczny komórki przechowywany jest w jej stanie w postaci łańcuchów DNA # Kod genetyczny komórki przechowywany jest w jej czasie w postaci łańcuchów DNA # Kod genetyczny komórki przechowywany jest w jej okolicy w postaci łańcuchów DNA # \n",
      "\u001b[1mxlm-roberta-base\u001b[0m: Kod genetyczny komórki przechowywany jest w jej DNA w postaci łańcuchów DNA # Kod genetyczny komórki przechowywany jest w jej pamięci w postaci łańcuchów DNA # Kod genetyczny komórki przechowywany jest w jej ciele w postaci łańcuchów DNA # Kod genetyczny komórki przechowywany jest w jej ADN w postaci łańcuchów DNA # Kod genetyczny komórki przechowywany jest w jej laboratorium w postaci łańcuchów DNA # \n",
      "\u001b[1mGeotrend/distilbert-base-pl-cased\u001b[0m: Kod genetyczny komórki przechowywany jest w jej skład w postaci łańcuchów DNA # Kod genetyczny komórki przechowywany jest w jej przypadku w postaci łańcuchów DNA # Kod genetyczny komórki przechowywany jest w jej postaci w postaci łańcuchów DNA # Kod genetyczny komórki przechowywany jest w jej składzie w postaci łańcuchów DNA # Kod genetyczny komórki przechowywany jest w jej trakcie w postaci łańcuchów DNA # \n"
     ]
    }
   ],
   "source": [
    "test_sentences(sentences_long)"
   ]
  },
  {
   "cell_type": "markdown",
   "metadata": {},
   "source": [
    "6. Take into accout the fact, that causal language models such as PapuGaPT2 or plT5, will only generate continuations of the sentenes, so the\n",
    "   examples have to be created according to that paradigm."
   ]
  },
  {
   "cell_type": "markdown",
   "metadata": {},
   "source": [
    "7. Answer the following questions:\n",
    "   1. Which of the models produced the best results?\n",
    "   1. Was any of the models able to capture Polish grammar?\n",
    "   1. Was any of the models able to capture long-distant relationships between the words?\n",
    "   1. Was any of the models able to capture world knowledge?\n",
    "   1. What are the most striking errors made by the models?"
   ]
  }
 ],
 "metadata": {
  "kernelspec": {
   "display_name": "Python 3.10.6 64-bit",
   "language": "python",
   "name": "python3"
  },
  "language_info": {
   "codemirror_mode": {
    "name": "ipython",
    "version": 3
   },
   "file_extension": ".py",
   "mimetype": "text/x-python",
   "name": "python",
   "nbconvert_exporter": "python",
   "pygments_lexer": "ipython3",
   "version": "3.10.6"
  },
  "orig_nbformat": 4,
  "vscode": {
   "interpreter": {
    "hash": "916dbcbb3f70747c44a77c7bcd40155683ae19c65e1c03b4aa3499c5328201f1"
   }
  }
 },
 "nbformat": 4,
 "nbformat_minor": 2
}
