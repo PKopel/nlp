{
 "cells": [
  {
   "cell_type": "code",
   "execution_count": 22,
   "metadata": {},
   "outputs": [],
   "source": [
    "import utils\n",
    "import requests\n",
    "\n",
    "text_by_file = utils.load_files('./ustawy/*')\n",
    "ES_ADDRESS = 'http://localhost:9200'"
   ]
  },
  {
   "cell_type": "markdown",
   "metadata": {},
   "source": [
    "1. Install ElasticSearch (ES).\n",
    "2. Install an ES plugin for Polish.\n",
    "\n",
    "[Dockerfile:](./Dockerfile)\n",
    "```docker\n",
    "FROM docker.elastic.co/elasticsearch/elasticsearch:8.4.3\n",
    "\n",
    "RUN bin/elasticsearch-plugin install pl.allegro.tech.elasticsearch.plugin:elasticsearch-analysis-morfologik:8.4.3\n",
    "\n",
    "ENTRYPOINT [ \"/usr/local/bin/docker-entrypoint.sh\",\"elasticsearch\" ]\n",
    "```\n",
    "\n",
    "[bash script:](./es.sh)\n",
    "```bash\n",
    "#!/usr/bin/env bash\n",
    "\n",
    "ES_CONTAINER=\"es-morfologik:latest\"\n",
    "\n",
    "docker build -t $ES_CONTAINER .\n",
    "\n",
    "docker run \\\n",
    "    -p 9200:9200 \\\n",
    "    -p 9300:9300 \\\n",
    "    -e \"discovery.type=single-node\" \\\n",
    "    -e \"xpack.security.enabled=false\" \\\n",
    "   $ES_CONTAINER\n",
    "```"
   ]
  },
  {
   "cell_type": "markdown",
   "metadata": {},
   "source": [
    "3. Define an ES analyzer for Polish texts containing:\n",
    "   1. standard tokenizer\n",
    "   1. synonym filter with the following definitions:\n",
    "      1. kpk - kodeks postępowania karnego\n",
    "      1. kpc - kodeks postępowania cywilnego\n",
    "      1. kk - kodeks karny\n",
    "      1. kc - kodeks cywilny\n",
    "   1. Morfologik-based lemmatizer\n",
    "   1. lowercase filter"
   ]
  },
  {
   "cell_type": "code",
   "execution_count": 23,
   "metadata": {},
   "outputs": [],
   "source": [
    "synonym_filter = {\n",
    "    \"synonym\": {\n",
    "        \"type\": \"synonym\",\n",
    "        \"synonyms\": [\n",
    "            \"kpk => kodeks postępowania karnego\",\n",
    "            \"kpc => kodeks postępowania cywilnego\",\n",
    "            \"kk => kodeks karny\",\n",
    "            \"kc => kodeks cywilny\"\n",
    "        ]\n",
    "    }\n",
    "}\n",
    "\n",
    "analyzer = {\n",
    "    \"polish_text_analyzer\": {\n",
    "        \"type\": \"custom\",\n",
    "        \"tokenizer\": \"standard\",\n",
    "        \"filter\": [\n",
    "            \"lowercase\",\n",
    "            \"synonym\",\n",
    "            \"morfologik_stem\"\n",
    "        ]\n",
    "    }\n",
    "}"
   ]
  },
  {
   "cell_type": "markdown",
   "metadata": {},
   "source": [
    "4. Define an ES index for storing the contents of the legislative acts."
   ]
  },
  {
   "cell_type": "code",
   "execution_count": 24,
   "metadata": {},
   "outputs": [
    {
     "data": {
      "text/plain": [
       "'{\"acknowledged\":true,\"shards_acknowledged\":true,\"index\":\"ustawy\"}'"
      ]
     },
     "execution_count": 24,
     "metadata": {},
     "output_type": "execute_result"
    }
   ],
   "source": [
    "index = {\n",
    "  \"settings\": {\n",
    "    \"index\": {\n",
    "      \"analysis\": {\n",
    "        \"analyzer\": analyzer,\n",
    "        \"filter\": synonym_filter\n",
    "      }\n",
    "    }\n",
    "  },\n",
    "  \"mappings\": {\n",
    "    \"properties\": {\n",
    "      \"file\": { \"type\": \"text\" },  \n",
    "      \"contents\": { \n",
    "        \"type\": \"text\",\n",
    "        \"analyzer\": \"polish_text_analyzer\"  \n",
    "      }     \n",
    "    }\n",
    "  }\n",
    "}\n",
    "index_url = f'{ES_ADDRESS}/ustawy'\n",
    "\n",
    "r = requests.put(index_url, json=index) \n",
    "r.text"
   ]
  },
  {
   "cell_type": "markdown",
   "metadata": {},
   "source": [
    "5. Load the data to the ES index."
   ]
  },
  {
   "cell_type": "code",
   "execution_count": 25,
   "metadata": {},
   "outputs": [
    {
     "data": {
      "text/plain": [
       "False"
      ]
     },
     "execution_count": 25,
     "metadata": {},
     "output_type": "execute_result"
    }
   ],
   "source": [
    "bulk = ''\n",
    "\n",
    "for file,text in text_by_file.items():\n",
    "    text = ' '.join(text.split()).replace('\\\\',r'\\\\').replace('\\\"',r'\\\"')\n",
    "    bulk += '{\"index\":{}}\\n{\"file\":\"' + file + '\",\"contents\":\"' + text + '\"}\\n'\n",
    "\n",
    "headers = {'Content-Type': 'application/x-ndjson'}\n",
    "bulk_url = index_url + '/_bulk'\n",
    "\n",
    "r = requests.post(bulk_url, data=bulk.encode('utf-8'), headers=headers)\n",
    "r.json()['errors']"
   ]
  },
  {
   "cell_type": "markdown",
   "metadata": {},
   "source": [
    "6. Determine the number of legislative acts containing the word **ustawa** (in any form)."
   ]
  },
  {
   "cell_type": "code",
   "execution_count": 26,
   "metadata": {},
   "outputs": [
    {
     "name": "stdout",
     "output_type": "stream",
     "text": [
      "1178\n"
     ]
    }
   ],
   "source": [
    "search_url = index_url + '/_count'\n",
    "\n",
    "query = {\n",
    "    \"query\": {\n",
    "        \"match\": {\n",
    "            \"contents\" : \"ustawa\",\n",
    "        }\n",
    "    }\n",
    "}\n",
    "\n",
    "r = requests.get(search_url, json=query)\n",
    "print(r.json()['count'])"
   ]
  },
  {
   "cell_type": "markdown",
   "metadata": {},
   "source": [
    "7. Determine the number of occurrences of the word **ustawa** by searching for this particular form, including the other inflectional forms."
   ]
  },
  {
   "cell_type": "code",
   "execution_count": 28,
   "metadata": {},
   "outputs": [
    {
     "data": {
      "text/plain": [
       "24934"
      ]
     },
     "execution_count": 28,
     "metadata": {},
     "output_type": "execute_result"
    }
   ],
   "source": [
    "search_url = index_url + '/_search'\n",
    "\n",
    "query = {\n",
    "    \"query\": {\n",
    "        \"match\": {\n",
    "            \"contents\" : \"ustawa\",\n",
    "        }\n",
    "    }\n",
    "}\n",
    "\n",
    "r = requests.get(search_url, json=query)\n",
    "doc_id = r.json()['hits']['hits'][0]['_id']\n",
    "\n",
    "termvec_url = index_url + '/_termvectors/' + doc_id\n",
    "\n",
    "query = {\n",
    "  \"fields\" : [\"contents\"],\n",
    "  \"offsets\" : False,\n",
    "  \"payloads\" : False,\n",
    "  \"positions\" : False,\n",
    "  \"term_statistics\" : True,\n",
    "  \"field_statistics\" : False\n",
    "}\n",
    "\n",
    "r = requests.get(termvec_url,json=query)\n",
    "r.json()['term_vectors']['contents']['terms']['ustawa']['ttf']"
   ]
  },
  {
   "cell_type": "markdown",
   "metadata": {},
   "source": [
    "8. Determine the number of occurrences of the word **ustaw** by searching for this particular form, including the other inflectional forms."
   ]
  },
  {
   "cell_type": "code",
   "execution_count": 29,
   "metadata": {},
   "outputs": [
    {
     "data": {
      "text/plain": [
       "913"
      ]
     },
     "execution_count": 29,
     "metadata": {},
     "output_type": "execute_result"
    }
   ],
   "source": [
    "search_url = index_url + '/_search'\n",
    "\n",
    "query = {\n",
    "    \"query\": {\n",
    "        \"match\": {\n",
    "            \"contents\" : \"ustaw\",\n",
    "        }\n",
    "    }\n",
    "}\n",
    "\n",
    "r = requests.get(search_url, json=query)\n",
    "doc_id = r.json()['hits']['hits'][0]['_id']\n",
    "\n",
    "termvec_url = index_url + '/_termvectors/' + doc_id\n",
    "\n",
    "query = {\n",
    "  \"fields\" : [\"contents\"],\n",
    "  \"offsets\" : False,\n",
    "  \"payloads\" : False,\n",
    "  \"positions\" : False,\n",
    "  \"term_statistics\" : True,\n",
    "  \"field_statistics\" : False\n",
    "}\n",
    "\n",
    "r = requests.get(termvec_url,json=query)\n",
    "r.json()['term_vectors']['contents']['terms']['ustawić']['ttf']"
   ]
  },
  {
   "cell_type": "markdown",
   "metadata": {},
   "source": [
    "9. Determine the number of legislative acts containing the words **kodeks postępowania cywilnego** in the specified order, but in any inflection form."
   ]
  },
  {
   "cell_type": "code",
   "execution_count": 36,
   "metadata": {},
   "outputs": [
    {
     "data": {
      "text/plain": [
       "'{\"count\":99,\"_shards\":{\"total\":1,\"successful\":1,\"skipped\":0,\"failed\":0}}'"
      ]
     },
     "execution_count": 36,
     "metadata": {},
     "output_type": "execute_result"
    }
   ],
   "source": [
    "search_url = index_url + '/_count'\n",
    "\n",
    "query = {\n",
    "    \"query\": {\n",
    "        \"match_phrase\": {\n",
    "            \"contents\": {\n",
    "                \"query\": \"kodeks postępowania cywilnego\",\n",
    "                \"analyzer\": \"polish_text_analyzer\"\n",
    "            } \n",
    "        }\n",
    "    }\n",
    "}\n",
    "\n",
    "r = requests.get(search_url, json=query)\n",
    "print(r.json()['count'])"
   ]
  },
  {
   "cell_type": "markdown",
   "metadata": {},
   "source": [
    "10. Determine the number of legislative acts containing the words **wchodzi w życie** (in any form) allowing for up to 2 additional words in the searched phrase."
   ]
  },
  {
   "cell_type": "code",
   "execution_count": 66,
   "metadata": {},
   "outputs": [
    {
     "name": "stdout",
     "output_type": "stream",
     "text": [
      "1174\n"
     ]
    }
   ],
   "source": [
    "search_url = index_url + '/_count'\n",
    "\n",
    "query = {\n",
    "    \"query\": {\n",
    "        \"match_phrase\": {\n",
    "            \"contents\" : {\n",
    "                \"query\": \"wchodzi w życie\",\n",
    "                \"analyzer\": \"polish_text_analyzer\",\n",
    "                \"slop\": 2\n",
    "            }\n",
    "        }\n",
    "    }\n",
    "}\n",
    "\n",
    "r = requests.get(search_url, json=query)\n",
    "print(r.json()['count'])"
   ]
  },
  {
   "cell_type": "markdown",
   "metadata": {},
   "source": [
    "11. Determine the 10 documents that are the most relevant for the phrase **konstytucja**."
   ]
  },
  {
   "cell_type": "code",
   "execution_count": 65,
   "metadata": {},
   "outputs": [
    {
     "name": "stdout",
     "output_type": "stream",
     "text": [
      "45\n",
      "{'_id': 'llPpQYQBX6EqmV7Eh07l', 'file': './ustawy/1997_629.txt', 'score': 6.867635}\n",
      "{'_id': 'u1PpQYQBX6EqmV7Eh0va', 'file': './ustawy/2000_443.txt', 'score': 6.662749}\n",
      "{'_id': 'clPpQYQBX6EqmV7Eh0vY', 'file': './ustawy/1997_604.txt', 'score': 6.6320543}\n",
      "{'_id': 'cFPpQYQBX6EqmV7Eh03i', 'file': './ustawy/1996_350.txt', 'score': 6.626803}\n",
      "{'_id': 'nVPpQYQBX6EqmV7Eh0vZ', 'file': './ustawy/1997_642.txt', 'score': 6.251624}\n",
      "{'_id': 'dlPpQYQBX6EqmV7Eh07l', 'file': './ustawy/2001_23.txt', 'score': 6.0579295}\n",
      "{'_id': 'MFPpQYQBX6EqmV7Eh03h', 'file': './ustawy/1996_199.txt', 'score': 5.928016}\n",
      "{'_id': 'H1PpQYQBX6EqmV7Eh03h', 'file': './ustawy/1999_688.txt', 'score': 5.8496947}\n",
      "{'_id': 'VlPpQYQBX6EqmV7Eh03i', 'file': './ustawy/1997_681.txt', 'score': 5.466536}\n",
      "{'_id': '4VPpQYQBX6EqmV7Eh03j', 'file': './ustawy/2001_1082.txt', 'score': 5.466536}\n"
     ]
    }
   ],
   "source": [
    "search_url = index_url + '/_search'\n",
    "\n",
    "query = {\n",
    "    \"query\": {\n",
    "        \"match\": {\n",
    "            \"contents\" : \"konstytucja\",\n",
    "        }\n",
    "    },\n",
    "    \"size\": 1178,\n",
    "    \"track_scores\": True\n",
    "}\n",
    "\n",
    "r = requests.get(search_url, json=query)\n",
    "scores = list(map(lambda hit: {'_id': hit['_id'], 'file': hit[\"_source\"][\"file\"],'score': hit['_score']}, r.json()['hits']['hits']))\n",
    "print(len(scores))\n",
    "best_10 = list(sorted(scores, key=lambda doc: doc['score'], reverse=True))[:10]\n",
    "for file in best_10:\n",
    "    print(file)\n"
   ]
  },
  {
   "cell_type": "markdown",
   "metadata": {},
   "source": [
    "12. Print the excerpts containing the word **konstytucja** (up to three excerpts per document) from the previous task."
   ]
  },
  {
   "cell_type": "code",
   "execution_count": 63,
   "metadata": {},
   "outputs": [
    {
     "name": "stdout",
     "output_type": "stream",
     "text": [
      "file: ./ustawy/1997_629.txt highlight: uchwalenia <em>Konstytucji</em>\n",
      "file: ./ustawy/1997_629.txt highlight: uchwalenia <em>Konstytucji</em>\n",
      "file: ./ustawy/1997_629.txt highlight: projektowi <em>Konstytucji</em>\n",
      "file: ./ustawy/2000_443.txt highlight: i art. 90 <em>Konstytucji</em>\n",
      "file: ./ustawy/2000_443.txt highlight: i art. 90 <em>Konstytucji</em>\n",
      "file: ./ustawy/2000_443.txt highlight: 89 ust. 2 <em>Konstytucji</em>\n",
      "file: ./ustawy/1997_604.txt highlight: zgodności z <em>Konstytucją</em>\n",
      "file: ./ustawy/1997_604.txt highlight: politycznej z <em>Konstytucją</em>\n",
      "file: ./ustawy/1997_604.txt highlight: politycznej z <em>Konstytucją</em>\n",
      "file: ./ustawy/1996_350.txt highlight: naruszenie <em>Konstytucji</em>\n",
      "file: ./ustawy/1996_350.txt highlight: art. 107 <em>Konstytucji</em>\n",
      "file: ./ustawy/1996_350.txt highlight: naruszenie <em>Konstytucji</em>\n",
      "file: ./ustawy/1997_642.txt highlight: międzynarodowych z <em>Konstytucją</em>\n",
      "file: ./ustawy/1997_642.txt highlight: państwowe, z <em>Konstytucją</em>\n",
      "file: ./ustawy/1997_642.txt highlight: zgodności z <em>Konstytucją</em>\n",
      "file: ./ustawy/2001_23.txt highlight: ogłasza się: 1) <em>Konstytucję</em>\n",
      "file: ./ustawy/2001_23.txt highlight: zatwierdzającego zmianę <em>Konstytucji</em>\n",
      "file: ./ustawy/2001_23.txt highlight: określone w <em>Konstytucji</em>\n",
      "file: ./ustawy/1996_199.txt highlight: uchwalenia <em>Konstytucji</em>\n",
      "file: ./ustawy/1996_199.txt highlight: uchwalenia <em>Konstytucji</em>\n",
      "file: ./ustawy/1996_199.txt highlight: poddanie <em>Konstytucji</em>\n",
      "file: ./ustawy/1999_688.txt highlight: 118 ust. 2 <em>Konstytucji</em>\n",
      "file: ./ustawy/1999_688.txt highlight: dla których <em>Konstytucja</em>\n",
      "file: ./ustawy/1999_688.txt highlight: zawartym w <em>Konstytucji</em>\n",
      "file: ./ustawy/1997_681.txt highlight: określonych w <em>Konstytucji</em>\n",
      "file: ./ustawy/1997_681.txt highlight: wierności <em>Konstytucji</em>\n",
      "file: ./ustawy/2001_1082.txt highlight: określone w <em>Konstytucji</em>\n",
      "file: ./ustawy/2001_1082.txt highlight: zgodności z <em>Konstytucją</em>\n"
     ]
    }
   ],
   "source": [
    "search_url = index_url + '/_search'\n",
    "ids = list(map(lambda doc: doc['_id'], best_10))\n",
    "\n",
    "query = {\n",
    "    \"query\": {\n",
    "        \"bool\":{\n",
    "            \"must\": [\n",
    "                {\n",
    "                    \"match\": {\n",
    "                        \"contents\" : \"konstytucja\",\n",
    "                    }\n",
    "                },\n",
    "                {\n",
    "                    \"ids\": {\n",
    "                        \"values\": ids\n",
    "                    }\n",
    "                }\n",
    "            ]\n",
    "        }\n",
    "    },\n",
    "    \"highlight\":{\n",
    "      \"fragment_size\":10,\n",
    "      \"fields\":{\n",
    "         \"contents\":{}\n",
    "      }\n",
    "   }\n",
    "}\n",
    "\n",
    "r = requests.get(search_url, json=query)\n",
    "for hit in r.json()['hits']['hits']:\n",
    "    highlights = hit['highlight']['contents']\n",
    "    for highlight in highlights[:3]:\n",
    "        print(f'file: {hit[\"_source\"][\"file\"]} highlight: {highlight}')"
   ]
  }
 ],
 "metadata": {
  "kernelspec": {
   "display_name": "Python 3.10.6 64-bit",
   "language": "python",
   "name": "python3"
  },
  "language_info": {
   "codemirror_mode": {
    "name": "ipython",
    "version": 3
   },
   "file_extension": ".py",
   "mimetype": "text/x-python",
   "name": "python",
   "nbconvert_exporter": "python",
   "pygments_lexer": "ipython3",
   "version": "3.10.6"
  },
  "orig_nbformat": 4,
  "vscode": {
   "interpreter": {
    "hash": "916dbcbb3f70747c44a77c7bcd40155683ae19c65e1c03b4aa3499c5328201f1"
   }
  }
 },
 "nbformat": 4,
 "nbformat_minor": 2
}
